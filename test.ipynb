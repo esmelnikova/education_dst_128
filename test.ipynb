{
 "cells": [
  {
   "cell_type": "code",
   "execution_count": 4,
   "metadata": {},
   "outputs": [],
   "source": [
    "from test import score_game\n",
    "from test import random_predict"
   ]
  },
  {
   "cell_type": "code",
   "execution_count": 5,
   "metadata": {},
   "outputs": [
    {
     "ename": "TypeError",
     "evalue": "'int' object is not callable",
     "output_type": "error",
     "traceback": [
      "\u001b[1;31m---------------------------------------------------------------------------\u001b[0m",
      "\u001b[1;31mTypeError\u001b[0m                                 Traceback (most recent call last)",
      "\u001b[1;32md:\\Катя\\обучение\\Data Science\\Projects\\test.ipynb Ячейка 2\u001b[0m in \u001b[0;36m<cell line: 1>\u001b[1;34m()\u001b[0m\n\u001b[1;32m----> <a href='vscode-notebook-cell:/d%3A/%D0%9A%D0%B0%D1%82%D1%8F/%D0%BE%D0%B1%D1%83%D1%87%D0%B5%D0%BD%D0%B8%D0%B5/Data%20Science/Projects/test.ipynb#W1sZmlsZQ%3D%3D?line=0'>1</a>\u001b[0m score_game(random_predict\u001b[39m=\u001b[39;49m\u001b[39m25\u001b[39;49m)\n",
      "File \u001b[1;32md:\\Катя\\обучение\\Data Science\\Projects\\test.py:36\u001b[0m, in \u001b[0;36mscore_game\u001b[1;34m(random_predict)\u001b[0m\n\u001b[0;32m     33\u001b[0m random_array \u001b[39m=\u001b[39m np\u001b[39m.\u001b[39mrandom\u001b[39m.\u001b[39mrandint(\u001b[39m1\u001b[39m, \u001b[39m101\u001b[39m, size\u001b[39m=\u001b[39m(\u001b[39m1000\u001b[39m)) \u001b[39m# загадали список чисел\u001b[39;00m\n\u001b[0;32m     35\u001b[0m \u001b[39mfor\u001b[39;00m number \u001b[39min\u001b[39;00m random_array:\n\u001b[1;32m---> 36\u001b[0m     count_ls\u001b[39m.\u001b[39mappend(random_predict(number))\n\u001b[0;32m     38\u001b[0m score \u001b[39m=\u001b[39m \u001b[39mint\u001b[39m(np\u001b[39m.\u001b[39mmean(count_ls)) \u001b[39m# находим среднее количество попыток\u001b[39;00m\n\u001b[0;32m     40\u001b[0m \u001b[39mprint\u001b[39m(\u001b[39mf\u001b[39m\u001b[39m'\u001b[39m\u001b[39mВаш алгоритм угадывает число в среднем за: \u001b[39m\u001b[39m{\u001b[39;00mscore\u001b[39m}\u001b[39;00m\u001b[39m попыток\u001b[39m\u001b[39m'\u001b[39m)\n",
      "\u001b[1;31mTypeError\u001b[0m: 'int' object is not callable"
     ]
    }
   ],
   "source": [
    "score_game(random_predict=25)"
   ]
  }
 ],
 "metadata": {
  "kernelspec": {
   "display_name": "Python 3.9.10 64-bit",
   "language": "python",
   "name": "python3"
  },
  "language_info": {
   "codemirror_mode": {
    "name": "ipython",
    "version": 3
   },
   "file_extension": ".py",
   "mimetype": "text/x-python",
   "name": "python",
   "nbconvert_exporter": "python",
   "pygments_lexer": "ipython3",
   "version": "3.9.10"
  },
  "orig_nbformat": 4,
  "vscode": {
   "interpreter": {
    "hash": "43af4c9d837a1581c77d6d49013dbaf10b5a877907d81bcf2ca852ce9b327d2d"
   }
  }
 },
 "nbformat": 4,
 "nbformat_minor": 2
}
