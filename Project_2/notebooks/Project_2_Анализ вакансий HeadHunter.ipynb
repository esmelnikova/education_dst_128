{
  "cells": [
    {
      "cell_type": "markdown",
      "id": "42289889-bd57-434e-9637-d3e354756316",
      "metadata": {
        "id": "42289889-bd57-434e-9637-d3e354756316"
      },
      "source": [
        "<center> <img src = https://raw.githubusercontent.com/AndreyRysistov/DatasetsForPandas/main/hh%20label.jpg alt=\"drawing\" style=\"width:400px;\">"
      ]
    },
    {
      "cell_type": "markdown",
      "id": "829cb75b-f14e-4ba8-9195-7ba929a7d656",
      "metadata": {
        "id": "829cb75b-f14e-4ba8-9195-7ba929a7d656",
        "tags": []
      },
      "source": [
        "# <center> Проект: Анализ вакансий из HeadHunter\n",
        "   "
      ]
    },
    {
      "cell_type": "markdown",
      "id": "46212d5c",
      "metadata": {},
      "source": [
        "Схема данных для работы над проектом приведена [здесь](https://github.com/esmelnikova/education_dst_128/tree/main/Project_2/description/Схема_данных.md)"
      ]
    },
    {
      "cell_type": "code",
      "execution_count": 252,
      "id": "dccfde33-2452-43fb-a8a5-5c6ebc02a71d",
      "metadata": {
        "id": "dccfde33-2452-43fb-a8a5-5c6ebc02a71d"
      },
      "outputs": [],
      "source": [
        "import pandas as pd\n",
        "import psycopg2"
      ]
    },
    {
      "cell_type": "code",
      "execution_count": 253,
      "id": "oVKH4ehvf8Ay",
      "metadata": {
        "id": "oVKH4ehvf8Ay"
      },
      "outputs": [],
      "source": [
        "# параметры подключения к БД\n",
        "DBNAME = 'project_sql'\n",
        "USER = 'skillfactory'\n",
        "PASSWORD = '***' # введите пароль\n",
        "HOST = '84.201.134.129'\n",
        "PORT = 5432"
      ]
    },
    {
      "cell_type": "code",
      "execution_count": 254,
      "id": "G4X_q8KBf7SF",
      "metadata": {
        "id": "G4X_q8KBf7SF"
      },
      "outputs": [],
      "source": [
        "connection = psycopg2.connect(\n",
        "    dbname=DBNAME,\n",
        "    user=USER,\n",
        "    host=HOST,\n",
        "    password=PASSWORD,\n",
        "    port=PORT\n",
        ")"
      ]
    },
    {
      "cell_type": "markdown",
      "id": "0dc6476b-7a00-44f1-ac93-6e3baed33a29",
      "metadata": {
        "id": "0dc6476b-7a00-44f1-ac93-6e3baed33a29"
      },
      "source": [
        "# Юнит 3. Предварительный анализ данных"
      ]
    },
    {
      "cell_type": "markdown",
      "id": "889782b6-8d1c-410e-8920-e57f27917c64",
      "metadata": {
        "id": "889782b6-8d1c-410e-8920-e57f27917c64"
      },
      "source": [
        "1. Напишите запрос, который посчитает количество вакансий в нашей базе (вакансии находятся в таблице vacancies). "
      ]
    },
    {
      "cell_type": "code",
      "execution_count": 255,
      "id": "bc39e68e-ed02-4ee2-9235-7258a2f867a8",
      "metadata": {
        "id": "bc39e68e-ed02-4ee2-9235-7258a2f867a8"
      },
      "outputs": [],
      "source": [
        "# текст запроса\n",
        "query_3_1 = f'''select count(*) from public.vacancies'''"
      ]
    },
    {
      "cell_type": "code",
      "execution_count": 256,
      "id": "7mAwtsk4hEHY",
      "metadata": {
        "id": "7mAwtsk4hEHY"
      },
      "outputs": [
        {
          "name": "stderr",
          "output_type": "stream",
          "text": [
            "C:\\Users\\sheme\\AppData\\Local\\Temp\\ipykernel_12988\\3515521326.py:2: UserWarning: pandas only supports SQLAlchemy connectable (engine/connection) or database string URI or sqlite3 DBAPI2 connection. Other DBAPI2 objects are not tested. Please consider using SQLAlchemy.\n",
            "  df = pd.read_sql_query(query_3_1, connection)\n"
          ]
        },
        {
          "data": {
            "text/html": [
              "<div>\n",
              "<style scoped>\n",
              "    .dataframe tbody tr th:only-of-type {\n",
              "        vertical-align: middle;\n",
              "    }\n",
              "\n",
              "    .dataframe tbody tr th {\n",
              "        vertical-align: top;\n",
              "    }\n",
              "\n",
              "    .dataframe thead th {\n",
              "        text-align: right;\n",
              "    }\n",
              "</style>\n",
              "<table border=\"1\" class=\"dataframe\">\n",
              "  <thead>\n",
              "    <tr style=\"text-align: right;\">\n",
              "      <th></th>\n",
              "      <th>count</th>\n",
              "    </tr>\n",
              "  </thead>\n",
              "  <tbody>\n",
              "    <tr>\n",
              "      <th>0</th>\n",
              "      <td>49197</td>\n",
              "    </tr>\n",
              "  </tbody>\n",
              "</table>\n",
              "</div>"
            ],
            "text/plain": [
              "   count\n",
              "0  49197"
            ]
          },
          "metadata": {},
          "output_type": "display_data"
        }
      ],
      "source": [
        "# результат запроса\n",
        "df = pd.read_sql_query(query_3_1, connection)\n",
        "display(df)"
      ]
    },
    {
      "cell_type": "markdown",
      "id": "b583485d-1f9e-494e-ada4-80ffff7c53d6",
      "metadata": {
        "id": "b583485d-1f9e-494e-ada4-80ffff7c53d6"
      },
      "source": [
        "2. Напишите запрос, который посчитает количество работодателей (таблица employers). "
      ]
    },
    {
      "cell_type": "code",
      "execution_count": 257,
      "id": "5408c52c-3407-4a63-b25b-1aafa2322d28",
      "metadata": {
        "id": "5408c52c-3407-4a63-b25b-1aafa2322d28"
      },
      "outputs": [],
      "source": [
        "query_3_2 = f'''select count(*) from public.employers'''"
      ]
    },
    {
      "cell_type": "code",
      "execution_count": 258,
      "id": "jVL4eshKhdqc",
      "metadata": {
        "id": "jVL4eshKhdqc"
      },
      "outputs": [
        {
          "name": "stderr",
          "output_type": "stream",
          "text": [
            "C:\\Users\\sheme\\AppData\\Local\\Temp\\ipykernel_12988\\438664466.py:1: UserWarning: pandas only supports SQLAlchemy connectable (engine/connection) or database string URI or sqlite3 DBAPI2 connection. Other DBAPI2 objects are not tested. Please consider using SQLAlchemy.\n",
            "  df = pd.read_sql_query(query_3_2, connection)\n"
          ]
        },
        {
          "data": {
            "text/html": [
              "<div>\n",
              "<style scoped>\n",
              "    .dataframe tbody tr th:only-of-type {\n",
              "        vertical-align: middle;\n",
              "    }\n",
              "\n",
              "    .dataframe tbody tr th {\n",
              "        vertical-align: top;\n",
              "    }\n",
              "\n",
              "    .dataframe thead th {\n",
              "        text-align: right;\n",
              "    }\n",
              "</style>\n",
              "<table border=\"1\" class=\"dataframe\">\n",
              "  <thead>\n",
              "    <tr style=\"text-align: right;\">\n",
              "      <th></th>\n",
              "      <th>count</th>\n",
              "    </tr>\n",
              "  </thead>\n",
              "  <tbody>\n",
              "    <tr>\n",
              "      <th>0</th>\n",
              "      <td>23501</td>\n",
              "    </tr>\n",
              "  </tbody>\n",
              "</table>\n",
              "</div>"
            ],
            "text/plain": [
              "   count\n",
              "0  23501"
            ]
          },
          "metadata": {},
          "output_type": "display_data"
        }
      ],
      "source": [
        "df = pd.read_sql_query(query_3_2, connection)\n",
        "display(df)"
      ]
    },
    {
      "cell_type": "markdown",
      "id": "a2bfff1f-c975-4bf6-84be-2185d79dcb76",
      "metadata": {
        "id": "a2bfff1f-c975-4bf6-84be-2185d79dcb76"
      },
      "source": [
        "3. Посчитате с помощью запроса количество регионов (таблица areas)."
      ]
    },
    {
      "cell_type": "code",
      "execution_count": 259,
      "id": "1m8QJwBYhey6",
      "metadata": {
        "id": "1m8QJwBYhey6"
      },
      "outputs": [],
      "source": [
        "query_3_3 = f'''select count(*) from public.areas'''"
      ]
    },
    {
      "cell_type": "code",
      "execution_count": 260,
      "id": "EZsn9tlfhe7f",
      "metadata": {
        "id": "EZsn9tlfhe7f"
      },
      "outputs": [
        {
          "name": "stderr",
          "output_type": "stream",
          "text": [
            "C:\\Users\\sheme\\AppData\\Local\\Temp\\ipykernel_12988\\2888627660.py:1: UserWarning: pandas only supports SQLAlchemy connectable (engine/connection) or database string URI or sqlite3 DBAPI2 connection. Other DBAPI2 objects are not tested. Please consider using SQLAlchemy.\n",
            "  df = pd.read_sql_query(query_3_3, connection)\n"
          ]
        },
        {
          "data": {
            "text/html": [
              "<div>\n",
              "<style scoped>\n",
              "    .dataframe tbody tr th:only-of-type {\n",
              "        vertical-align: middle;\n",
              "    }\n",
              "\n",
              "    .dataframe tbody tr th {\n",
              "        vertical-align: top;\n",
              "    }\n",
              "\n",
              "    .dataframe thead th {\n",
              "        text-align: right;\n",
              "    }\n",
              "</style>\n",
              "<table border=\"1\" class=\"dataframe\">\n",
              "  <thead>\n",
              "    <tr style=\"text-align: right;\">\n",
              "      <th></th>\n",
              "      <th>count</th>\n",
              "    </tr>\n",
              "  </thead>\n",
              "  <tbody>\n",
              "    <tr>\n",
              "      <th>0</th>\n",
              "      <td>1362</td>\n",
              "    </tr>\n",
              "  </tbody>\n",
              "</table>\n",
              "</div>"
            ],
            "text/plain": [
              "   count\n",
              "0   1362"
            ]
          },
          "metadata": {},
          "output_type": "display_data"
        }
      ],
      "source": [
        "df = pd.read_sql_query(query_3_3, connection)\n",
        "display(df)"
      ]
    },
    {
      "cell_type": "markdown",
      "id": "41bb59f3-53cc-4a67-a5bc-bedf573955e4",
      "metadata": {
        "id": "41bb59f3-53cc-4a67-a5bc-bedf573955e4"
      },
      "source": [
        "4. Посчитате с помощью запроса количество сфер деятельности в базе (таблица industries)."
      ]
    },
    {
      "cell_type": "code",
      "execution_count": 261,
      "id": "d286cf4c-707b-4cd2-9190-7ab3587d04a1",
      "metadata": {
        "id": "d286cf4c-707b-4cd2-9190-7ab3587d04a1"
      },
      "outputs": [],
      "source": [
        "query_3_4 = f'''select count(*) from public.industries'''"
      ]
    },
    {
      "cell_type": "code",
      "execution_count": 262,
      "id": "JYAaoZ4qhfzW",
      "metadata": {
        "id": "JYAaoZ4qhfzW"
      },
      "outputs": [
        {
          "name": "stderr",
          "output_type": "stream",
          "text": [
            "C:\\Users\\sheme\\AppData\\Local\\Temp\\ipykernel_12988\\181467837.py:1: UserWarning: pandas only supports SQLAlchemy connectable (engine/connection) or database string URI or sqlite3 DBAPI2 connection. Other DBAPI2 objects are not tested. Please consider using SQLAlchemy.\n",
            "  df = pd.read_sql_query(query_3_4, connection)\n"
          ]
        },
        {
          "data": {
            "text/html": [
              "<div>\n",
              "<style scoped>\n",
              "    .dataframe tbody tr th:only-of-type {\n",
              "        vertical-align: middle;\n",
              "    }\n",
              "\n",
              "    .dataframe tbody tr th {\n",
              "        vertical-align: top;\n",
              "    }\n",
              "\n",
              "    .dataframe thead th {\n",
              "        text-align: right;\n",
              "    }\n",
              "</style>\n",
              "<table border=\"1\" class=\"dataframe\">\n",
              "  <thead>\n",
              "    <tr style=\"text-align: right;\">\n",
              "      <th></th>\n",
              "      <th>count</th>\n",
              "    </tr>\n",
              "  </thead>\n",
              "  <tbody>\n",
              "    <tr>\n",
              "      <th>0</th>\n",
              "      <td>294</td>\n",
              "    </tr>\n",
              "  </tbody>\n",
              "</table>\n",
              "</div>"
            ],
            "text/plain": [
              "   count\n",
              "0    294"
            ]
          },
          "metadata": {},
          "output_type": "display_data"
        }
      ],
      "source": [
        "df = pd.read_sql_query(query_3_4, connection)\n",
        "display(df)"
      ]
    },
    {
      "cell_type": "markdown",
      "id": "9a8a2181-6914-448b-85f1-38f5f18b8a93",
      "metadata": {
        "id": "9a8a2181-6914-448b-85f1-38f5f18b8a93"
      },
      "source": [
        "***"
      ]
    },
    {
      "cell_type": "markdown",
      "id": "2224504c",
      "metadata": {},
      "source": [
        "**Выводы по предварительному анализу данных**\n",
        "\n",
        "Схема данных содержит 5 основных таблиц для анализа вакансий:\n",
        "* public.vacancies (вакансии)\n",
        "* public.employers (работодатели)\n",
        "* public.areas (регионы)\n",
        "* public.industries (сферы деятельности предприятий)\n",
        "* public.employers_industries (для связи \"много-ко-многим\" между таблицами employers и industries)\n",
        "    \n",
        "Таблицы не пустые, данные во вакансиям присутсвуют в достаточном количестве (около 50 тыс. вакансий у 23 тыс. работодателей), \n",
        "возможен переход к более детальному анализу данных.\n",
        "\n",
        "Справочники регионов и сфер деятельности содержат множество неповторяющихся значений (соответсвенно 1392 и 294), что делает эти признаки слабоинформативным для анализа. Рекомендуется в дальнейшем преобразование данных с объединением признаков в группы."
      ]
    },
    {
      "cell_type": "markdown",
      "id": "8d62a9f3-f64e-4fe7-bdac-c4dffa16155e",
      "metadata": {
        "id": "8d62a9f3-f64e-4fe7-bdac-c4dffa16155e"
      },
      "source": [
        "# Юнит 4. Детальный анализ вакансий"
      ]
    },
    {
      "cell_type": "markdown",
      "id": "93053d3d-b284-481a-9cf7-012d7014c0e0",
      "metadata": {
        "id": "93053d3d-b284-481a-9cf7-012d7014c0e0"
      },
      "source": [
        "1. Напишите запрос, который позволит узнать, сколько (cnt) вакансий в каждом регионе (area).\n",
        "Отсортируйте по количеству вакансий в порядке убывания."
      ]
    },
    {
      "cell_type": "code",
      "execution_count": 263,
      "id": "3f069da6-fdc9-4ae7-b514-fafe2675efd3",
      "metadata": {
        "id": "3f069da6-fdc9-4ae7-b514-fafe2675efd3"
      },
      "outputs": [],
      "source": [
        "query_4_1 = f'''\n",
        "    SELECT a.name as area, count(v.id) as cnt\n",
        "    FROM public.vacancies v\n",
        "    JOIN public.areas a\n",
        "    ON v.area_id=a.id\n",
        "    GROUP BY a.id\n",
        "    ORDER BY cnt DESC\n",
        "'''"
      ]
    },
    {
      "cell_type": "code",
      "execution_count": 264,
      "id": "P7QL86hrjhRJ",
      "metadata": {
        "id": "P7QL86hrjhRJ"
      },
      "outputs": [
        {
          "name": "stderr",
          "output_type": "stream",
          "text": [
            "C:\\Users\\sheme\\AppData\\Local\\Temp\\ipykernel_12988\\2004364207.py:1: UserWarning: pandas only supports SQLAlchemy connectable (engine/connection) or database string URI or sqlite3 DBAPI2 connection. Other DBAPI2 objects are not tested. Please consider using SQLAlchemy.\n",
            "  df = pd.read_sql_query(query_4_1, connection)\n"
          ]
        },
        {
          "data": {
            "text/html": [
              "<div>\n",
              "<style scoped>\n",
              "    .dataframe tbody tr th:only-of-type {\n",
              "        vertical-align: middle;\n",
              "    }\n",
              "\n",
              "    .dataframe tbody tr th {\n",
              "        vertical-align: top;\n",
              "    }\n",
              "\n",
              "    .dataframe thead th {\n",
              "        text-align: right;\n",
              "    }\n",
              "</style>\n",
              "<table border=\"1\" class=\"dataframe\">\n",
              "  <thead>\n",
              "    <tr style=\"text-align: right;\">\n",
              "      <th></th>\n",
              "      <th>area</th>\n",
              "      <th>cnt</th>\n",
              "    </tr>\n",
              "  </thead>\n",
              "  <tbody>\n",
              "    <tr>\n",
              "      <th>0</th>\n",
              "      <td>Москва</td>\n",
              "      <td>5333</td>\n",
              "    </tr>\n",
              "    <tr>\n",
              "      <th>1</th>\n",
              "      <td>Санкт-Петербург</td>\n",
              "      <td>2851</td>\n",
              "    </tr>\n",
              "    <tr>\n",
              "      <th>2</th>\n",
              "      <td>Минск</td>\n",
              "      <td>2112</td>\n",
              "    </tr>\n",
              "    <tr>\n",
              "      <th>3</th>\n",
              "      <td>Новосибирск</td>\n",
              "      <td>2006</td>\n",
              "    </tr>\n",
              "    <tr>\n",
              "      <th>4</th>\n",
              "      <td>Алматы</td>\n",
              "      <td>1892</td>\n",
              "    </tr>\n",
              "    <tr>\n",
              "      <th>...</th>\n",
              "      <td>...</td>\n",
              "      <td>...</td>\n",
              "    </tr>\n",
              "    <tr>\n",
              "      <th>764</th>\n",
              "      <td>Кизляр</td>\n",
              "      <td>1</td>\n",
              "    </tr>\n",
              "    <tr>\n",
              "      <th>765</th>\n",
              "      <td>Джизак</td>\n",
              "      <td>1</td>\n",
              "    </tr>\n",
              "    <tr>\n",
              "      <th>766</th>\n",
              "      <td>Эртиль</td>\n",
              "      <td>1</td>\n",
              "    </tr>\n",
              "    <tr>\n",
              "      <th>767</th>\n",
              "      <td>Арсеньев</td>\n",
              "      <td>1</td>\n",
              "    </tr>\n",
              "    <tr>\n",
              "      <th>768</th>\n",
              "      <td>Тура (Красноярский край)</td>\n",
              "      <td>1</td>\n",
              "    </tr>\n",
              "  </tbody>\n",
              "</table>\n",
              "<p>769 rows × 2 columns</p>\n",
              "</div>"
            ],
            "text/plain": [
              "                         area   cnt\n",
              "0                      Москва  5333\n",
              "1             Санкт-Петербург  2851\n",
              "2                       Минск  2112\n",
              "3                 Новосибирск  2006\n",
              "4                      Алматы  1892\n",
              "..                        ...   ...\n",
              "764                    Кизляр     1\n",
              "765                    Джизак     1\n",
              "766                    Эртиль     1\n",
              "767                  Арсеньев     1\n",
              "768  Тура (Красноярский край)     1\n",
              "\n",
              "[769 rows x 2 columns]"
            ]
          },
          "metadata": {},
          "output_type": "display_data"
        }
      ],
      "source": [
        "df = pd.read_sql_query(query_4_1, connection)\n",
        "display(df)"
      ]
    },
    {
      "cell_type": "markdown",
      "id": "4266f0b6-1646-492a-88b4-2f6a46502135",
      "metadata": {
        "id": "4266f0b6-1646-492a-88b4-2f6a46502135"
      },
      "source": [
        "2. Напишите запрос, чтобы определить у какого количества вакансий заполнено хотя бы одно из двух полей с зарплатой."
      ]
    },
    {
      "cell_type": "code",
      "execution_count": 265,
      "id": "0c44b350-72eb-4d65-8b54-a1fc449ba9fd",
      "metadata": {
        "id": "0c44b350-72eb-4d65-8b54-a1fc449ba9fd"
      },
      "outputs": [],
      "source": [
        "query_4_2 = f'''\n",
        "    SELECT count(*) \n",
        "    FROM public.vacancies\n",
        "    WHERE salary_from IS NOT NULL OR salary_to IS NOT NULL\n",
        "'''"
      ]
    },
    {
      "cell_type": "code",
      "execution_count": 266,
      "id": "rhvwaMDkoWTi",
      "metadata": {
        "id": "rhvwaMDkoWTi"
      },
      "outputs": [
        {
          "name": "stderr",
          "output_type": "stream",
          "text": [
            "C:\\Users\\sheme\\AppData\\Local\\Temp\\ipykernel_12988\\1373709454.py:1: UserWarning: pandas only supports SQLAlchemy connectable (engine/connection) or database string URI or sqlite3 DBAPI2 connection. Other DBAPI2 objects are not tested. Please consider using SQLAlchemy.\n",
            "  df = pd.read_sql_query(query_4_2, connection)\n"
          ]
        },
        {
          "data": {
            "text/html": [
              "<div>\n",
              "<style scoped>\n",
              "    .dataframe tbody tr th:only-of-type {\n",
              "        vertical-align: middle;\n",
              "    }\n",
              "\n",
              "    .dataframe tbody tr th {\n",
              "        vertical-align: top;\n",
              "    }\n",
              "\n",
              "    .dataframe thead th {\n",
              "        text-align: right;\n",
              "    }\n",
              "</style>\n",
              "<table border=\"1\" class=\"dataframe\">\n",
              "  <thead>\n",
              "    <tr style=\"text-align: right;\">\n",
              "      <th></th>\n",
              "      <th>count</th>\n",
              "    </tr>\n",
              "  </thead>\n",
              "  <tbody>\n",
              "    <tr>\n",
              "      <th>0</th>\n",
              "      <td>24073</td>\n",
              "    </tr>\n",
              "  </tbody>\n",
              "</table>\n",
              "</div>"
            ],
            "text/plain": [
              "   count\n",
              "0  24073"
            ]
          },
          "metadata": {},
          "output_type": "display_data"
        }
      ],
      "source": [
        "df = pd.read_sql_query(query_4_2, connection)\n",
        "display(df)"
      ]
    },
    {
      "cell_type": "markdown",
      "id": "635c4d5d-f323-4c66-b428-50a088120aa0",
      "metadata": {
        "id": "635c4d5d-f323-4c66-b428-50a088120aa0"
      },
      "source": [
        "3. Найдите средние значения для нижней и верхней границы зарплатной вилки. Округлите значения до целого."
      ]
    },
    {
      "cell_type": "code",
      "execution_count": 267,
      "id": "603cdbe4-0ec3-4106-8eaf-c73fcdd29165",
      "metadata": {
        "id": "603cdbe4-0ec3-4106-8eaf-c73fcdd29165"
      },
      "outputs": [],
      "source": [
        "query_4_3 = f'''\n",
        "    SELECT round(avg(salary_from)) as avg_salary_from,\n",
        "\t       round(avg(salary_to)) as avg_salary_to\n",
        "    FROM public.vacancies\n",
        "'''"
      ]
    },
    {
      "cell_type": "code",
      "execution_count": 268,
      "id": "pswpAb66ovZZ",
      "metadata": {
        "id": "pswpAb66ovZZ"
      },
      "outputs": [
        {
          "name": "stderr",
          "output_type": "stream",
          "text": [
            "C:\\Users\\sheme\\AppData\\Local\\Temp\\ipykernel_12988\\511848361.py:1: UserWarning: pandas only supports SQLAlchemy connectable (engine/connection) or database string URI or sqlite3 DBAPI2 connection. Other DBAPI2 objects are not tested. Please consider using SQLAlchemy.\n",
            "  df = pd.read_sql_query(query_4_3, connection)\n"
          ]
        },
        {
          "data": {
            "text/html": [
              "<div>\n",
              "<style scoped>\n",
              "    .dataframe tbody tr th:only-of-type {\n",
              "        vertical-align: middle;\n",
              "    }\n",
              "\n",
              "    .dataframe tbody tr th {\n",
              "        vertical-align: top;\n",
              "    }\n",
              "\n",
              "    .dataframe thead th {\n",
              "        text-align: right;\n",
              "    }\n",
              "</style>\n",
              "<table border=\"1\" class=\"dataframe\">\n",
              "  <thead>\n",
              "    <tr style=\"text-align: right;\">\n",
              "      <th></th>\n",
              "      <th>avg_salary_from</th>\n",
              "      <th>avg_salary_to</th>\n",
              "    </tr>\n",
              "  </thead>\n",
              "  <tbody>\n",
              "    <tr>\n",
              "      <th>0</th>\n",
              "      <td>71065.0</td>\n",
              "      <td>110537.0</td>\n",
              "    </tr>\n",
              "  </tbody>\n",
              "</table>\n",
              "</div>"
            ],
            "text/plain": [
              "   avg_salary_from  avg_salary_to\n",
              "0          71065.0       110537.0"
            ]
          },
          "metadata": {},
          "output_type": "display_data"
        }
      ],
      "source": [
        "df = pd.read_sql_query(query_4_3, connection)\n",
        "display(df)"
      ]
    },
    {
      "cell_type": "code",
      "execution_count": 269,
      "id": "23abb655",
      "metadata": {},
      "outputs": [
        {
          "name": "stderr",
          "output_type": "stream",
          "text": [
            "C:\\Users\\sheme\\AppData\\Local\\Temp\\ipykernel_12988\\491911997.py:8: UserWarning: pandas only supports SQLAlchemy connectable (engine/connection) or database string URI or sqlite3 DBAPI2 connection. Other DBAPI2 objects are not tested. Please consider using SQLAlchemy.\n",
            "  df = pd.read_sql_query(query_4_3_1, connection)\n"
          ]
        },
        {
          "data": {
            "text/html": [
              "<div>\n",
              "<style scoped>\n",
              "    .dataframe tbody tr th:only-of-type {\n",
              "        vertical-align: middle;\n",
              "    }\n",
              "\n",
              "    .dataframe tbody tr th {\n",
              "        vertical-align: top;\n",
              "    }\n",
              "\n",
              "    .dataframe thead th {\n",
              "        text-align: right;\n",
              "    }\n",
              "</style>\n",
              "<table border=\"1\" class=\"dataframe\">\n",
              "  <thead>\n",
              "    <tr style=\"text-align: right;\">\n",
              "      <th></th>\n",
              "      <th>min_salary_from</th>\n",
              "      <th>max_salary_from</th>\n",
              "      <th>min_salary_to</th>\n",
              "      <th>max_salary_to</th>\n",
              "    </tr>\n",
              "  </thead>\n",
              "  <tbody>\n",
              "    <tr>\n",
              "      <th>0</th>\n",
              "      <td>30</td>\n",
              "      <td>1000000</td>\n",
              "      <td>60</td>\n",
              "      <td>1000000</td>\n",
              "    </tr>\n",
              "  </tbody>\n",
              "</table>\n",
              "</div>"
            ],
            "text/plain": [
              "   min_salary_from  max_salary_from  min_salary_to  max_salary_to\n",
              "0               30          1000000             60        1000000"
            ]
          },
          "metadata": {},
          "output_type": "display_data"
        }
      ],
      "source": [
        "# минимальные и максимальные значения для границ зарплатной вилки\n",
        "query_4_3_1 = f'''\n",
        "    SELECT  min(salary_from) as min_salary_from, max(salary_from) as max_salary_from,\n",
        "\t        min(salary_to) as min_salary_to, max(salary_to) as max_salary_to\n",
        "    FROM public.vacancies\n",
        "'''\n",
        "\n",
        "df = pd.read_sql_query(query_4_3_1, connection)\n",
        "display(df)"
      ]
    },
    {
      "cell_type": "code",
      "execution_count": 270,
      "id": "9e8e36d4",
      "metadata": {},
      "outputs": [
        {
          "name": "stderr",
          "output_type": "stream",
          "text": [
            "C:\\Users\\sheme\\AppData\\Local\\Temp\\ipykernel_12988\\253061076.py:12: UserWarning: pandas only supports SQLAlchemy connectable (engine/connection) or database string URI or sqlite3 DBAPI2 connection. Other DBAPI2 objects are not tested. Please consider using SQLAlchemy.\n",
            "  df = pd.read_sql_query(query_4_3_2, connection)\n"
          ]
        },
        {
          "data": {
            "text/html": [
              "<div>\n",
              "<style scoped>\n",
              "    .dataframe tbody tr th:only-of-type {\n",
              "        vertical-align: middle;\n",
              "    }\n",
              "\n",
              "    .dataframe tbody tr th {\n",
              "        vertical-align: top;\n",
              "    }\n",
              "\n",
              "    .dataframe thead th {\n",
              "        text-align: right;\n",
              "    }\n",
              "</style>\n",
              "<table border=\"1\" class=\"dataframe\">\n",
              "  <thead>\n",
              "    <tr style=\"text-align: right;\">\n",
              "      <th></th>\n",
              "      <th>name</th>\n",
              "      <th>min_salary_from</th>\n",
              "      <th>max_salary_from</th>\n",
              "      <th>min_salary_to</th>\n",
              "      <th>max_salary_to</th>\n",
              "    </tr>\n",
              "  </thead>\n",
              "  <tbody>\n",
              "    <tr>\n",
              "      <th>0</th>\n",
              "      <td>Сочи</td>\n",
              "      <td>30.0</td>\n",
              "      <td>500000.0</td>\n",
              "      <td>25000.0</td>\n",
              "      <td>1000000.0</td>\n",
              "    </tr>\n",
              "    <tr>\n",
              "      <th>1</th>\n",
              "      <td>Челябинск</td>\n",
              "      <td>30.0</td>\n",
              "      <td>300000.0</td>\n",
              "      <td>6000.0</td>\n",
              "      <td>350000.0</td>\n",
              "    </tr>\n",
              "    <tr>\n",
              "      <th>2</th>\n",
              "      <td>Воронеж</td>\n",
              "      <td>35.0</td>\n",
              "      <td>270000.0</td>\n",
              "      <td>25000.0</td>\n",
              "      <td>500000.0</td>\n",
              "    </tr>\n",
              "    <tr>\n",
              "      <th>3</th>\n",
              "      <td>Смоленск</td>\n",
              "      <td>60.0</td>\n",
              "      <td>180000.0</td>\n",
              "      <td>60.0</td>\n",
              "      <td>300000.0</td>\n",
              "    </tr>\n",
              "    <tr>\n",
              "      <th>4</th>\n",
              "      <td>Нур-Султан</td>\n",
              "      <td>65.0</td>\n",
              "      <td>400000.0</td>\n",
              "      <td>12205.0</td>\n",
              "      <td>526036.0</td>\n",
              "    </tr>\n",
              "    <tr>\n",
              "      <th>5</th>\n",
              "      <td>Самара</td>\n",
              "      <td>70.0</td>\n",
              "      <td>300000.0</td>\n",
              "      <td>20000.0</td>\n",
              "      <td>467588.0</td>\n",
              "    </tr>\n",
              "    <tr>\n",
              "      <th>6</th>\n",
              "      <td>Уфа</td>\n",
              "      <td>80.0</td>\n",
              "      <td>400000.0</td>\n",
              "      <td>25000.0</td>\n",
              "      <td>800000.0</td>\n",
              "    </tr>\n",
              "    <tr>\n",
              "      <th>7</th>\n",
              "      <td>Химки</td>\n",
              "      <td>80.0</td>\n",
              "      <td>250000.0</td>\n",
              "      <td>50000.0</td>\n",
              "      <td>300000.0</td>\n",
              "    </tr>\n",
              "    <tr>\n",
              "      <th>8</th>\n",
              "      <td>Новосибирск</td>\n",
              "      <td>105.0</td>\n",
              "      <td>500000.0</td>\n",
              "      <td>24000.0</td>\n",
              "      <td>584485.0</td>\n",
              "    </tr>\n",
              "    <tr>\n",
              "      <th>9</th>\n",
              "      <td>Москва</td>\n",
              "      <td>250.0</td>\n",
              "      <td>650000.0</td>\n",
              "      <td>350.0</td>\n",
              "      <td>1000000.0</td>\n",
              "    </tr>\n",
              "    <tr>\n",
              "      <th>10</th>\n",
              "      <td>Хабаровск</td>\n",
              "      <td>750.0</td>\n",
              "      <td>250000.0</td>\n",
              "      <td>850.0</td>\n",
              "      <td>350000.0</td>\n",
              "    </tr>\n",
              "    <tr>\n",
              "      <th>11</th>\n",
              "      <td>Тбилиси</td>\n",
              "      <td>900.0</td>\n",
              "      <td>350691.0</td>\n",
              "      <td>58448.0</td>\n",
              "      <td>500000.0</td>\n",
              "    </tr>\n",
              "    <tr>\n",
              "      <th>12</th>\n",
              "      <td>Брест</td>\n",
              "      <td>900.0</td>\n",
              "      <td>140254.0</td>\n",
              "      <td>28051.0</td>\n",
              "      <td>200000.0</td>\n",
              "    </tr>\n",
              "    <tr>\n",
              "      <th>13</th>\n",
              "      <td>Минск</td>\n",
              "      <td>1000.0</td>\n",
              "      <td>350691.0</td>\n",
              "      <td>2338.0</td>\n",
              "      <td>526036.0</td>\n",
              "    </tr>\n",
              "    <tr>\n",
              "      <th>14</th>\n",
              "      <td>Махачкала</td>\n",
              "      <td>1000.0</td>\n",
              "      <td>200000.0</td>\n",
              "      <td>25000.0</td>\n",
              "      <td>300000.0</td>\n",
              "    </tr>\n",
              "    <tr>\n",
              "      <th>15</th>\n",
              "      <td>Владикавказ</td>\n",
              "      <td>1000.0</td>\n",
              "      <td>200000.0</td>\n",
              "      <td>29000.0</td>\n",
              "      <td>250000.0</td>\n",
              "    </tr>\n",
              "    <tr>\n",
              "      <th>16</th>\n",
              "      <td>Киров (Кировская область)</td>\n",
              "      <td>1000.0</td>\n",
              "      <td>180000.0</td>\n",
              "      <td>2000.0</td>\n",
              "      <td>300000.0</td>\n",
              "    </tr>\n",
              "    <tr>\n",
              "      <th>17</th>\n",
              "      <td>Новороссийск</td>\n",
              "      <td>1000.0</td>\n",
              "      <td>120000.0</td>\n",
              "      <td>24000.0</td>\n",
              "      <td>180000.0</td>\n",
              "    </tr>\n",
              "    <tr>\n",
              "      <th>18</th>\n",
              "      <td>Кемерово</td>\n",
              "      <td>1500.0</td>\n",
              "      <td>200000.0</td>\n",
              "      <td>1500.0</td>\n",
              "      <td>253000.0</td>\n",
              "    </tr>\n",
              "    <tr>\n",
              "      <th>19</th>\n",
              "      <td>Сыктывкар</td>\n",
              "      <td>1500.0</td>\n",
              "      <td>100000.0</td>\n",
              "      <td>29950.0</td>\n",
              "      <td>140000.0</td>\n",
              "    </tr>\n",
              "    <tr>\n",
              "      <th>20</th>\n",
              "      <td>Нижний Новгород</td>\n",
              "      <td>2000.0</td>\n",
              "      <td>355000.0</td>\n",
              "      <td>6000.0</td>\n",
              "      <td>557232.0</td>\n",
              "    </tr>\n",
              "    <tr>\n",
              "      <th>21</th>\n",
              "      <td>Гродно</td>\n",
              "      <td>2805.0</td>\n",
              "      <td>110000.0</td>\n",
              "      <td>8181.0</td>\n",
              "      <td>146121.0</td>\n",
              "    </tr>\n",
              "    <tr>\n",
              "      <th>22</th>\n",
              "      <td>Ташкент</td>\n",
              "      <td>4506.0</td>\n",
              "      <td>292242.0</td>\n",
              "      <td>5301.0</td>\n",
              "      <td>309777.0</td>\n",
              "    </tr>\n",
              "    <tr>\n",
              "      <th>23</th>\n",
              "      <td>Калининград</td>\n",
              "      <td>5000.0</td>\n",
              "      <td>355000.0</td>\n",
              "      <td>15000.0</td>\n",
              "      <td>520000.0</td>\n",
              "    </tr>\n",
              "    <tr>\n",
              "      <th>24</th>\n",
              "      <td>Владивосток</td>\n",
              "      <td>5000.0</td>\n",
              "      <td>280000.0</td>\n",
              "      <td>16745.0</td>\n",
              "      <td>350000.0</td>\n",
              "    </tr>\n",
              "    <tr>\n",
              "      <th>25</th>\n",
              "      <td>Чита</td>\n",
              "      <td>5000.0</td>\n",
              "      <td>150000.0</td>\n",
              "      <td>23000.0</td>\n",
              "      <td>170000.0</td>\n",
              "    </tr>\n",
              "    <tr>\n",
              "      <th>26</th>\n",
              "      <td>Санкт-Петербург</td>\n",
              "      <td>6000.0</td>\n",
              "      <td>1000000.0</td>\n",
              "      <td>6000.0</td>\n",
              "      <td>935176.0</td>\n",
              "    </tr>\n",
              "    <tr>\n",
              "      <th>27</th>\n",
              "      <td>Тосно</td>\n",
              "      <td>6000.0</td>\n",
              "      <td>95100.0</td>\n",
              "      <td>6200.0</td>\n",
              "      <td>6200.0</td>\n",
              "    </tr>\n",
              "    <tr>\n",
              "      <th>28</th>\n",
              "      <td>Ош</td>\n",
              "      <td>7282.0</td>\n",
              "      <td>7282.0</td>\n",
              "      <td>18204.0</td>\n",
              "      <td>18204.0</td>\n",
              "    </tr>\n",
              "    <tr>\n",
              "      <th>29</th>\n",
              "      <td>Алматы</td>\n",
              "      <td>7323.0</td>\n",
              "      <td>574000.0</td>\n",
              "      <td>9764.0</td>\n",
              "      <td>1000000.0</td>\n",
              "    </tr>\n",
              "    <tr>\n",
              "      <th>30</th>\n",
              "      <td>Актау</td>\n",
              "      <td>7323.0</td>\n",
              "      <td>83585.0</td>\n",
              "      <td>12205.0</td>\n",
              "      <td>278616.0</td>\n",
              "    </tr>\n",
              "    <tr>\n",
              "      <th>31</th>\n",
              "      <td>Петропавловск</td>\n",
              "      <td>7323.0</td>\n",
              "      <td>36614.0</td>\n",
              "      <td>9764.0</td>\n",
              "      <td>61024.0</td>\n",
              "    </tr>\n",
              "    <tr>\n",
              "      <th>32</th>\n",
              "      <td>Актобе</td>\n",
              "      <td>7323.0</td>\n",
              "      <td>36614.0</td>\n",
              "      <td>15256.0</td>\n",
              "      <td>43815.0</td>\n",
              "    </tr>\n",
              "    <tr>\n",
              "      <th>33</th>\n",
              "      <td>Кызылорда</td>\n",
              "      <td>7323.0</td>\n",
              "      <td>30512.0</td>\n",
              "      <td>15866.0</td>\n",
              "      <td>73228.0</td>\n",
              "    </tr>\n",
              "    <tr>\n",
              "      <th>34</th>\n",
              "      <td>Ставрополь</td>\n",
              "      <td>8000.0</td>\n",
              "      <td>200000.0</td>\n",
              "      <td>20000.0</td>\n",
              "      <td>250000.0</td>\n",
              "    </tr>\n",
              "    <tr>\n",
              "      <th>35</th>\n",
              "      <td>Саранск</td>\n",
              "      <td>8000.0</td>\n",
              "      <td>180000.0</td>\n",
              "      <td>12000.0</td>\n",
              "      <td>350000.0</td>\n",
              "    </tr>\n",
              "    <tr>\n",
              "      <th>36</th>\n",
              "      <td>Костанай</td>\n",
              "      <td>8543.0</td>\n",
              "      <td>85433.0</td>\n",
              "      <td>6102.0</td>\n",
              "      <td>85433.0</td>\n",
              "    </tr>\n",
              "    <tr>\n",
              "      <th>37</th>\n",
              "      <td>Талдыкорган</td>\n",
              "      <td>8543.0</td>\n",
              "      <td>36614.0</td>\n",
              "      <td>8787.0</td>\n",
              "      <td>61024.0</td>\n",
              "    </tr>\n",
              "    <tr>\n",
              "      <th>38</th>\n",
              "      <td>Могилев</td>\n",
              "      <td>9350.0</td>\n",
              "      <td>81828.0</td>\n",
              "      <td>11688.0</td>\n",
              "      <td>128587.0</td>\n",
              "    </tr>\n",
              "    <tr>\n",
              "      <th>39</th>\n",
              "      <td>Солигорск</td>\n",
              "      <td>9350.0</td>\n",
              "      <td>35064.0</td>\n",
              "      <td>42076.0</td>\n",
              "      <td>70127.0</td>\n",
              "    </tr>\n",
              "    <tr>\n",
              "      <th>40</th>\n",
              "      <td>Мурманск</td>\n",
              "      <td>9600.0</td>\n",
              "      <td>178000.0</td>\n",
              "      <td>37000.0</td>\n",
              "      <td>253000.0</td>\n",
              "    </tr>\n",
              "    <tr>\n",
              "      <th>41</th>\n",
              "      <td>Караганда</td>\n",
              "      <td>9764.0</td>\n",
              "      <td>73228.0</td>\n",
              "      <td>18307.0</td>\n",
              "      <td>292242.0</td>\n",
              "    </tr>\n",
              "    <tr>\n",
              "      <th>42</th>\n",
              "      <td>Жезказган</td>\n",
              "      <td>9764.0</td>\n",
              "      <td>40276.0</td>\n",
              "      <td>18307.0</td>\n",
              "      <td>50039.0</td>\n",
              "    </tr>\n",
              "    <tr>\n",
              "      <th>43</th>\n",
              "      <td>Шахтинск</td>\n",
              "      <td>9764.0</td>\n",
              "      <td>9764.0</td>\n",
              "      <td>NaN</td>\n",
              "      <td>NaN</td>\n",
              "    </tr>\n",
              "    <tr>\n",
              "      <th>44</th>\n",
              "      <td>Казань</td>\n",
              "      <td>10000.0</td>\n",
              "      <td>500000.0</td>\n",
              "      <td>17780.0</td>\n",
              "      <td>600000.0</td>\n",
              "    </tr>\n",
              "    <tr>\n",
              "      <th>45</th>\n",
              "      <td>Красноярск</td>\n",
              "      <td>10000.0</td>\n",
              "      <td>500000.0</td>\n",
              "      <td>20500.0</td>\n",
              "      <td>400000.0</td>\n",
              "    </tr>\n",
              "    <tr>\n",
              "      <th>46</th>\n",
              "      <td>Севастополь</td>\n",
              "      <td>10000.0</td>\n",
              "      <td>355000.0</td>\n",
              "      <td>15000.0</td>\n",
              "      <td>520000.0</td>\n",
              "    </tr>\n",
              "    <tr>\n",
              "      <th>47</th>\n",
              "      <td>Екатеринбург</td>\n",
              "      <td>10000.0</td>\n",
              "      <td>355000.0</td>\n",
              "      <td>20000.0</td>\n",
              "      <td>584485.0</td>\n",
              "    </tr>\n",
              "    <tr>\n",
              "      <th>48</th>\n",
              "      <td>Омск</td>\n",
              "      <td>10000.0</td>\n",
              "      <td>350000.0</td>\n",
              "      <td>12000.0</td>\n",
              "      <td>450000.0</td>\n",
              "    </tr>\n",
              "    <tr>\n",
              "      <th>49</th>\n",
              "      <td>Краснодар</td>\n",
              "      <td>10000.0</td>\n",
              "      <td>350000.0</td>\n",
              "      <td>15000.0</td>\n",
              "      <td>700000.0</td>\n",
              "    </tr>\n",
              "  </tbody>\n",
              "</table>\n",
              "</div>"
            ],
            "text/plain": [
              "                         name  min_salary_from  max_salary_from  \\\n",
              "0                        Сочи             30.0         500000.0   \n",
              "1                   Челябинск             30.0         300000.0   \n",
              "2                     Воронеж             35.0         270000.0   \n",
              "3                    Смоленск             60.0         180000.0   \n",
              "4                  Нур-Султан             65.0         400000.0   \n",
              "5                      Самара             70.0         300000.0   \n",
              "6                         Уфа             80.0         400000.0   \n",
              "7                       Химки             80.0         250000.0   \n",
              "8                 Новосибирск            105.0         500000.0   \n",
              "9                      Москва            250.0         650000.0   \n",
              "10                  Хабаровск            750.0         250000.0   \n",
              "11                    Тбилиси            900.0         350691.0   \n",
              "12                      Брест            900.0         140254.0   \n",
              "13                      Минск           1000.0         350691.0   \n",
              "14                  Махачкала           1000.0         200000.0   \n",
              "15                Владикавказ           1000.0         200000.0   \n",
              "16  Киров (Кировская область)           1000.0         180000.0   \n",
              "17               Новороссийск           1000.0         120000.0   \n",
              "18                   Кемерово           1500.0         200000.0   \n",
              "19                  Сыктывкар           1500.0         100000.0   \n",
              "20            Нижний Новгород           2000.0         355000.0   \n",
              "21                     Гродно           2805.0         110000.0   \n",
              "22                    Ташкент           4506.0         292242.0   \n",
              "23                Калининград           5000.0         355000.0   \n",
              "24                Владивосток           5000.0         280000.0   \n",
              "25                       Чита           5000.0         150000.0   \n",
              "26            Санкт-Петербург           6000.0        1000000.0   \n",
              "27                      Тосно           6000.0          95100.0   \n",
              "28                         Ош           7282.0           7282.0   \n",
              "29                     Алматы           7323.0         574000.0   \n",
              "30                      Актау           7323.0          83585.0   \n",
              "31              Петропавловск           7323.0          36614.0   \n",
              "32                     Актобе           7323.0          36614.0   \n",
              "33                  Кызылорда           7323.0          30512.0   \n",
              "34                 Ставрополь           8000.0         200000.0   \n",
              "35                    Саранск           8000.0         180000.0   \n",
              "36                   Костанай           8543.0          85433.0   \n",
              "37                Талдыкорган           8543.0          36614.0   \n",
              "38                    Могилев           9350.0          81828.0   \n",
              "39                  Солигорск           9350.0          35064.0   \n",
              "40                   Мурманск           9600.0         178000.0   \n",
              "41                  Караганда           9764.0          73228.0   \n",
              "42                  Жезказган           9764.0          40276.0   \n",
              "43                   Шахтинск           9764.0           9764.0   \n",
              "44                     Казань          10000.0         500000.0   \n",
              "45                 Красноярск          10000.0         500000.0   \n",
              "46                Севастополь          10000.0         355000.0   \n",
              "47               Екатеринбург          10000.0         355000.0   \n",
              "48                       Омск          10000.0         350000.0   \n",
              "49                  Краснодар          10000.0         350000.0   \n",
              "\n",
              "    min_salary_to  max_salary_to  \n",
              "0         25000.0      1000000.0  \n",
              "1          6000.0       350000.0  \n",
              "2         25000.0       500000.0  \n",
              "3            60.0       300000.0  \n",
              "4         12205.0       526036.0  \n",
              "5         20000.0       467588.0  \n",
              "6         25000.0       800000.0  \n",
              "7         50000.0       300000.0  \n",
              "8         24000.0       584485.0  \n",
              "9           350.0      1000000.0  \n",
              "10          850.0       350000.0  \n",
              "11        58448.0       500000.0  \n",
              "12        28051.0       200000.0  \n",
              "13         2338.0       526036.0  \n",
              "14        25000.0       300000.0  \n",
              "15        29000.0       250000.0  \n",
              "16         2000.0       300000.0  \n",
              "17        24000.0       180000.0  \n",
              "18         1500.0       253000.0  \n",
              "19        29950.0       140000.0  \n",
              "20         6000.0       557232.0  \n",
              "21         8181.0       146121.0  \n",
              "22         5301.0       309777.0  \n",
              "23        15000.0       520000.0  \n",
              "24        16745.0       350000.0  \n",
              "25        23000.0       170000.0  \n",
              "26         6000.0       935176.0  \n",
              "27         6200.0         6200.0  \n",
              "28        18204.0        18204.0  \n",
              "29         9764.0      1000000.0  \n",
              "30        12205.0       278616.0  \n",
              "31         9764.0        61024.0  \n",
              "32        15256.0        43815.0  \n",
              "33        15866.0        73228.0  \n",
              "34        20000.0       250000.0  \n",
              "35        12000.0       350000.0  \n",
              "36         6102.0        85433.0  \n",
              "37         8787.0        61024.0  \n",
              "38        11688.0       128587.0  \n",
              "39        42076.0        70127.0  \n",
              "40        37000.0       253000.0  \n",
              "41        18307.0       292242.0  \n",
              "42        18307.0        50039.0  \n",
              "43            NaN            NaN  \n",
              "44        17780.0       600000.0  \n",
              "45        20500.0       400000.0  \n",
              "46        15000.0       520000.0  \n",
              "47        20000.0       584485.0  \n",
              "48        12000.0       450000.0  \n",
              "49        15000.0       700000.0  "
            ]
          },
          "metadata": {},
          "output_type": "display_data"
        }
      ],
      "source": [
        "# минимальные и максимальные значения для границ зарплатной вилки в зависимости от региона\n",
        "query_4_3_2 = f'''\n",
        "    SELECT  a. name,\n",
        "\t        min(salary_from) as min_salary_from, max(salary_from) as max_salary_from,\n",
        "\t        min(salary_to) as min_salary_to, max(salary_to) as max_salary_to\n",
        "    FROM public.vacancies v\n",
        "\tJOIN public.areas a ON v.area_id=a.id\n",
        "\tGROUP BY a.id\n",
        "\tORDER BY min_salary_from, max_salary_from DESC, min_salary_to, max_salary_to DESC\n",
        "'''\n",
        "\n",
        "df = pd.read_sql_query(query_4_3_2, connection)\n",
        "display(df.head(50))"
      ]
    },
    {
      "cell_type": "code",
      "execution_count": 271,
      "id": "4c711ce9",
      "metadata": {},
      "outputs": [
        {
          "name": "stderr",
          "output_type": "stream",
          "text": [
            "C:\\Users\\sheme\\AppData\\Local\\Temp\\ipykernel_12988\\1221558397.py:14: UserWarning: pandas only supports SQLAlchemy connectable (engine/connection) or database string URI or sqlite3 DBAPI2 connection. Other DBAPI2 objects are not tested. Please consider using SQLAlchemy.\n",
            "  df = pd.read_sql_query(query_4_3_2, connection)\n"
          ]
        },
        {
          "data": {
            "text/html": [
              "<div>\n",
              "<style scoped>\n",
              "    .dataframe tbody tr th:only-of-type {\n",
              "        vertical-align: middle;\n",
              "    }\n",
              "\n",
              "    .dataframe tbody tr th {\n",
              "        vertical-align: top;\n",
              "    }\n",
              "\n",
              "    .dataframe thead th {\n",
              "        text-align: right;\n",
              "    }\n",
              "</style>\n",
              "<table border=\"1\" class=\"dataframe\">\n",
              "  <thead>\n",
              "    <tr style=\"text-align: right;\">\n",
              "      <th></th>\n",
              "      <th>name</th>\n",
              "      <th>min_salary_from</th>\n",
              "      <th>max_salary_from</th>\n",
              "      <th>min_salary_to</th>\n",
              "      <th>max_salary_to</th>\n",
              "    </tr>\n",
              "  </thead>\n",
              "  <tbody>\n",
              "    <tr>\n",
              "      <th>0</th>\n",
              "      <td>Строительство жилищное</td>\n",
              "      <td>30.0</td>\n",
              "      <td>500000.0</td>\n",
              "      <td>21206.0</td>\n",
              "      <td>200000.0</td>\n",
              "    </tr>\n",
              "    <tr>\n",
              "      <th>1</th>\n",
              "      <td>Агентские услуги в недвижимости</td>\n",
              "      <td>30.0</td>\n",
              "      <td>500000.0</td>\n",
              "      <td>25000.0</td>\n",
              "      <td>1000000.0</td>\n",
              "    </tr>\n",
              "    <tr>\n",
              "      <th>2</th>\n",
              "      <td>Безопасность, охранная деятельность</td>\n",
              "      <td>30.0</td>\n",
              "      <td>160000.0</td>\n",
              "      <td>17064.0</td>\n",
              "      <td>140000.0</td>\n",
              "    </tr>\n",
              "    <tr>\n",
              "      <th>3</th>\n",
              "      <td>Государственные организации</td>\n",
              "      <td>35.0</td>\n",
              "      <td>250000.0</td>\n",
              "      <td>12205.0</td>\n",
              "      <td>300000.0</td>\n",
              "    </tr>\n",
              "    <tr>\n",
              "      <th>4</th>\n",
              "      <td>Разработка программного обеспечения</td>\n",
              "      <td>42.0</td>\n",
              "      <td>500000.0</td>\n",
              "      <td>850.0</td>\n",
              "      <td>1000000.0</td>\n",
              "    </tr>\n",
              "    <tr>\n",
              "      <th>5</th>\n",
              "      <td>Интернет-компания (поисковики, платежные систе...</td>\n",
              "      <td>60.0</td>\n",
              "      <td>500000.0</td>\n",
              "      <td>60.0</td>\n",
              "      <td>1000000.0</td>\n",
              "    </tr>\n",
              "    <tr>\n",
              "      <th>6</th>\n",
              "      <td>Системная интеграция,  автоматизации технологи...</td>\n",
              "      <td>65.0</td>\n",
              "      <td>500000.0</td>\n",
              "      <td>850.0</td>\n",
              "      <td>935176.0</td>\n",
              "    </tr>\n",
              "    <tr>\n",
              "      <th>7</th>\n",
              "      <td>Оборудование для ресторанов, гостиниц, кейтери...</td>\n",
              "      <td>70.0</td>\n",
              "      <td>150000.0</td>\n",
              "      <td>24409.0</td>\n",
              "      <td>90000.0</td>\n",
              "    </tr>\n",
              "    <tr>\n",
              "      <th>8</th>\n",
              "      <td>Оборудование для ресторанов, гостиниц, кейтери...</td>\n",
              "      <td>70.0</td>\n",
              "      <td>150000.0</td>\n",
              "      <td>24409.0</td>\n",
              "      <td>80000.0</td>\n",
              "    </tr>\n",
              "    <tr>\n",
              "      <th>9</th>\n",
              "      <td>Консалтинговые услуги</td>\n",
              "      <td>80.0</td>\n",
              "      <td>500000.0</td>\n",
              "      <td>12205.0</td>\n",
              "      <td>600000.0</td>\n",
              "    </tr>\n",
              "    <tr>\n",
              "      <th>10</th>\n",
              "      <td>Колл-центры, диспетчерские службы</td>\n",
              "      <td>80.0</td>\n",
              "      <td>292242.0</td>\n",
              "      <td>15256.0</td>\n",
              "      <td>350691.0</td>\n",
              "    </tr>\n",
              "    <tr>\n",
              "      <th>11</th>\n",
              "      <td>Банк</td>\n",
              "      <td>1000.0</td>\n",
              "      <td>320000.0</td>\n",
              "      <td>10603.0</td>\n",
              "      <td>420000.0</td>\n",
              "    </tr>\n",
              "    <tr>\n",
              "      <th>12</th>\n",
              "      <td>Складские услуги</td>\n",
              "      <td>1000.0</td>\n",
              "      <td>300000.0</td>\n",
              "      <td>24409.0</td>\n",
              "      <td>300000.0</td>\n",
              "    </tr>\n",
              "    <tr>\n",
              "      <th>13</th>\n",
              "      <td>Автомобильные перевозки</td>\n",
              "      <td>1000.0</td>\n",
              "      <td>200000.0</td>\n",
              "      <td>22000.0</td>\n",
              "      <td>250000.0</td>\n",
              "    </tr>\n",
              "    <tr>\n",
              "      <th>14</th>\n",
              "      <td>Страхование, перестрахование</td>\n",
              "      <td>1500.0</td>\n",
              "      <td>250000.0</td>\n",
              "      <td>1500.0</td>\n",
              "      <td>213000.0</td>\n",
              "    </tr>\n",
              "    <tr>\n",
              "      <th>15</th>\n",
              "      <td>Сельскохозяйственная продукция (продвижение, о...</td>\n",
              "      <td>2922.0</td>\n",
              "      <td>250000.0</td>\n",
              "      <td>18307.0</td>\n",
              "      <td>250000.0</td>\n",
              "    </tr>\n",
              "    <tr>\n",
              "      <th>16</th>\n",
              "      <td>Маркетинговые, рекламные, BTL, дизайнерские, E...</td>\n",
              "      <td>3000.0</td>\n",
              "      <td>300000.0</td>\n",
              "      <td>6000.0</td>\n",
              "      <td>400000.0</td>\n",
              "    </tr>\n",
              "    <tr>\n",
              "      <th>17</th>\n",
              "      <td>Обучение иностранным языкам</td>\n",
              "      <td>3506.0</td>\n",
              "      <td>150000.0</td>\n",
              "      <td>18307.0</td>\n",
              "      <td>160000.0</td>\n",
              "    </tr>\n",
              "    <tr>\n",
              "      <th>18</th>\n",
              "      <td>Издательская деятельность</td>\n",
              "      <td>5143.0</td>\n",
              "      <td>300000.0</td>\n",
              "      <td>18307.0</td>\n",
              "      <td>400000.0</td>\n",
              "    </tr>\n",
              "    <tr>\n",
              "      <th>19</th>\n",
              "      <td>Тренинговые компании</td>\n",
              "      <td>5143.0</td>\n",
              "      <td>204570.0</td>\n",
              "      <td>30000.0</td>\n",
              "      <td>200000.0</td>\n",
              "    </tr>\n",
              "    <tr>\n",
              "      <th>20</th>\n",
              "      <td>Розничная сеть (электроника, бытовая техника)</td>\n",
              "      <td>5301.0</td>\n",
              "      <td>250000.0</td>\n",
              "      <td>5301.0</td>\n",
              "      <td>400000.0</td>\n",
              "    </tr>\n",
              "    <tr>\n",
              "      <th>21</th>\n",
              "      <td>Услуги по ведению бухгалтерского и налогового ...</td>\n",
              "      <td>5301.0</td>\n",
              "      <td>170000.0</td>\n",
              "      <td>14646.0</td>\n",
              "      <td>250000.0</td>\n",
              "    </tr>\n",
              "    <tr>\n",
              "      <th>22</th>\n",
              "      <td>Лечебно-профилактические учреждения</td>\n",
              "      <td>6000.0</td>\n",
              "      <td>350000.0</td>\n",
              "      <td>6000.0</td>\n",
              "      <td>250000.0</td>\n",
              "    </tr>\n",
              "    <tr>\n",
              "      <th>23</th>\n",
              "      <td>Архитектура, проектирование</td>\n",
              "      <td>6102.0</td>\n",
              "      <td>150000.0</td>\n",
              "      <td>18307.0</td>\n",
              "      <td>250000.0</td>\n",
              "    </tr>\n",
              "    <tr>\n",
              "      <th>24</th>\n",
              "      <td>Кадровые агентства</td>\n",
              "      <td>7013.0</td>\n",
              "      <td>1000000.0</td>\n",
              "      <td>16745.0</td>\n",
              "      <td>600000.0</td>\n",
              "    </tr>\n",
              "    <tr>\n",
              "      <th>25</th>\n",
              "      <td>Интернет-магазин</td>\n",
              "      <td>7282.0</td>\n",
              "      <td>500000.0</td>\n",
              "      <td>2338.0</td>\n",
              "      <td>1000000.0</td>\n",
              "    </tr>\n",
              "    <tr>\n",
              "      <th>26</th>\n",
              "      <td>Интернет-провайдер</td>\n",
              "      <td>7323.0</td>\n",
              "      <td>350000.0</td>\n",
              "      <td>13254.0</td>\n",
              "      <td>450000.0</td>\n",
              "    </tr>\n",
              "    <tr>\n",
              "      <th>27</th>\n",
              "      <td>Аптека, оптика</td>\n",
              "      <td>8000.0</td>\n",
              "      <td>300000.0</td>\n",
              "      <td>10000.0</td>\n",
              "      <td>200000.0</td>\n",
              "    </tr>\n",
              "    <tr>\n",
              "      <th>28</th>\n",
              "      <td>Центры развлечения</td>\n",
              "      <td>8000.0</td>\n",
              "      <td>250000.0</td>\n",
              "      <td>18000.0</td>\n",
              "      <td>325000.0</td>\n",
              "    </tr>\n",
              "    <tr>\n",
              "      <th>29</th>\n",
              "      <td>Школа, детский сад</td>\n",
              "      <td>8000.0</td>\n",
              "      <td>150000.0</td>\n",
              "      <td>20000.0</td>\n",
              "      <td>146121.0</td>\n",
              "    </tr>\n",
              "    <tr>\n",
              "      <th>30</th>\n",
              "      <td>Вуз, ссуз колледж, ПТУ</td>\n",
              "      <td>8543.0</td>\n",
              "      <td>250000.0</td>\n",
              "      <td>13425.0</td>\n",
              "      <td>250000.0</td>\n",
              "    </tr>\n",
              "    <tr>\n",
              "      <th>31</th>\n",
              "      <td>Курьерская, почтовая доставка</td>\n",
              "      <td>9350.0</td>\n",
              "      <td>300000.0</td>\n",
              "      <td>18000.0</td>\n",
              "      <td>300000.0</td>\n",
              "    </tr>\n",
              "    <tr>\n",
              "      <th>32</th>\n",
              "      <td>Юридическое обслуживание</td>\n",
              "      <td>9600.0</td>\n",
              "      <td>300000.0</td>\n",
              "      <td>18307.0</td>\n",
              "      <td>300000.0</td>\n",
              "    </tr>\n",
              "    <tr>\n",
              "      <th>33</th>\n",
              "      <td>Мобильная связь</td>\n",
              "      <td>9764.0</td>\n",
              "      <td>225000.0</td>\n",
              "      <td>9764.0</td>\n",
              "      <td>290000.0</td>\n",
              "    </tr>\n",
              "    <tr>\n",
              "      <th>34</th>\n",
              "      <td>Оптоволоконная связь</td>\n",
              "      <td>9764.0</td>\n",
              "      <td>220000.0</td>\n",
              "      <td>9764.0</td>\n",
              "      <td>375000.0</td>\n",
              "    </tr>\n",
              "    <tr>\n",
              "      <th>35</th>\n",
              "      <td>Фиксированная связь</td>\n",
              "      <td>9764.0</td>\n",
              "      <td>220000.0</td>\n",
              "      <td>9764.0</td>\n",
              "      <td>290000.0</td>\n",
              "    </tr>\n",
              "    <tr>\n",
              "      <th>36</th>\n",
              "      <td>Несетевая розница, мелкий опт</td>\n",
              "      <td>9764.0</td>\n",
              "      <td>200000.0</td>\n",
              "      <td>15800.0</td>\n",
              "      <td>260000.0</td>\n",
              "    </tr>\n",
              "    <tr>\n",
              "      <th>37</th>\n",
              "      <td>Строительство коммерческих объектов (торговые ...</td>\n",
              "      <td>10000.0</td>\n",
              "      <td>500000.0</td>\n",
              "      <td>10000.0</td>\n",
              "      <td>200000.0</td>\n",
              "    </tr>\n",
              "    <tr>\n",
              "      <th>38</th>\n",
              "      <td>Консалтинг, оценка в недвижимости</td>\n",
              "      <td>10000.0</td>\n",
              "      <td>500000.0</td>\n",
              "      <td>30512.0</td>\n",
              "      <td>1000000.0</td>\n",
              "    </tr>\n",
              "    <tr>\n",
              "      <th>39</th>\n",
              "      <td>Управляющая, инвестиционная компания (управлен...</td>\n",
              "      <td>10000.0</td>\n",
              "      <td>300000.0</td>\n",
              "      <td>15000.0</td>\n",
              "      <td>300000.0</td>\n",
              "    </tr>\n",
              "    <tr>\n",
              "      <th>40</th>\n",
              "      <td>Управление и эксплуатация недвижимости</td>\n",
              "      <td>10000.0</td>\n",
              "      <td>250000.0</td>\n",
              "      <td>14646.0</td>\n",
              "      <td>325000.0</td>\n",
              "    </tr>\n",
              "    <tr>\n",
              "      <th>41</th>\n",
              "      <td>Мебель (производство)</td>\n",
              "      <td>10000.0</td>\n",
              "      <td>250000.0</td>\n",
              "      <td>30000.0</td>\n",
              "      <td>500000.0</td>\n",
              "    </tr>\n",
              "    <tr>\n",
              "      <th>42</th>\n",
              "      <td>Розничная сеть (мебель)</td>\n",
              "      <td>10000.0</td>\n",
              "      <td>250000.0</td>\n",
              "      <td>30000.0</td>\n",
              "      <td>200000.0</td>\n",
              "    </tr>\n",
              "    <tr>\n",
              "      <th>43</th>\n",
              "      <td>Мебель (продвижение, оптовая торговля)</td>\n",
              "      <td>10000.0</td>\n",
              "      <td>250000.0</td>\n",
              "      <td>31732.0</td>\n",
              "      <td>500000.0</td>\n",
              "    </tr>\n",
              "    <tr>\n",
              "      <th>44</th>\n",
              "      <td>Производство мультимедиа, контента, редакторск...</td>\n",
              "      <td>10000.0</td>\n",
              "      <td>200000.0</td>\n",
              "      <td>15000.0</td>\n",
              "      <td>300000.0</td>\n",
              "    </tr>\n",
              "    <tr>\n",
              "      <th>45</th>\n",
              "      <td>Электронно-вычислительная, оптическая, контрол...</td>\n",
              "      <td>10000.0</td>\n",
              "      <td>200000.0</td>\n",
              "      <td>20000.0</td>\n",
              "      <td>210000.0</td>\n",
              "    </tr>\n",
              "    <tr>\n",
              "      <th>46</th>\n",
              "      <td>Бытовая техника, электроника, климатическое об...</td>\n",
              "      <td>10000.0</td>\n",
              "      <td>150000.0</td>\n",
              "      <td>14646.0</td>\n",
              "      <td>300000.0</td>\n",
              "    </tr>\n",
              "    <tr>\n",
              "      <th>47</th>\n",
              "      <td>Продюсерский центр</td>\n",
              "      <td>10000.0</td>\n",
              "      <td>150000.0</td>\n",
              "      <td>15000.0</td>\n",
              "      <td>150000.0</td>\n",
              "    </tr>\n",
              "    <tr>\n",
              "      <th>48</th>\n",
              "      <td>Общественная, политическая организация</td>\n",
              "      <td>10417.0</td>\n",
              "      <td>146456.0</td>\n",
              "      <td>16745.0</td>\n",
              "      <td>180630.0</td>\n",
              "    </tr>\n",
              "    <tr>\n",
              "      <th>49</th>\n",
              "      <td>Фармацевтическая продукция (продвижение, оптов...</td>\n",
              "      <td>10603.0</td>\n",
              "      <td>270000.0</td>\n",
              "      <td>21206.0</td>\n",
              "      <td>345000.0</td>\n",
              "    </tr>\n",
              "  </tbody>\n",
              "</table>\n",
              "</div>"
            ],
            "text/plain": [
              "                                                 name  min_salary_from  \\\n",
              "0                              Строительство жилищное             30.0   \n",
              "1                     Агентские услуги в недвижимости             30.0   \n",
              "2                 Безопасность, охранная деятельность             30.0   \n",
              "3                         Государственные организации             35.0   \n",
              "4                 Разработка программного обеспечения             42.0   \n",
              "5   Интернет-компания (поисковики, платежные систе...             60.0   \n",
              "6   Системная интеграция,  автоматизации технологи...             65.0   \n",
              "7   Оборудование для ресторанов, гостиниц, кейтери...             70.0   \n",
              "8   Оборудование для ресторанов, гостиниц, кейтери...             70.0   \n",
              "9                               Консалтинговые услуги             80.0   \n",
              "10                  Колл-центры, диспетчерские службы             80.0   \n",
              "11                                               Банк           1000.0   \n",
              "12                                   Складские услуги           1000.0   \n",
              "13                            Автомобильные перевозки           1000.0   \n",
              "14                       Страхование, перестрахование           1500.0   \n",
              "15  Сельскохозяйственная продукция (продвижение, о...           2922.0   \n",
              "16  Маркетинговые, рекламные, BTL, дизайнерские, E...           3000.0   \n",
              "17                        Обучение иностранным языкам           3506.0   \n",
              "18                          Издательская деятельность           5143.0   \n",
              "19                               Тренинговые компании           5143.0   \n",
              "20      Розничная сеть (электроника, бытовая техника)           5301.0   \n",
              "21  Услуги по ведению бухгалтерского и налогового ...           5301.0   \n",
              "22                Лечебно-профилактические учреждения           6000.0   \n",
              "23                        Архитектура, проектирование           6102.0   \n",
              "24                                 Кадровые агентства           7013.0   \n",
              "25                                   Интернет-магазин           7282.0   \n",
              "26                                 Интернет-провайдер           7323.0   \n",
              "27                                     Аптека, оптика           8000.0   \n",
              "28                                 Центры развлечения           8000.0   \n",
              "29                                 Школа, детский сад           8000.0   \n",
              "30                             Вуз, ссуз колледж, ПТУ           8543.0   \n",
              "31                      Курьерская, почтовая доставка           9350.0   \n",
              "32                           Юридическое обслуживание           9600.0   \n",
              "33                                    Мобильная связь           9764.0   \n",
              "34                               Оптоволоконная связь           9764.0   \n",
              "35                                Фиксированная связь           9764.0   \n",
              "36                      Несетевая розница, мелкий опт           9764.0   \n",
              "37  Строительство коммерческих объектов (торговые ...          10000.0   \n",
              "38                  Консалтинг, оценка в недвижимости          10000.0   \n",
              "39  Управляющая, инвестиционная компания (управлен...          10000.0   \n",
              "40             Управление и эксплуатация недвижимости          10000.0   \n",
              "41                              Мебель (производство)          10000.0   \n",
              "42                            Розничная сеть (мебель)          10000.0   \n",
              "43             Мебель (продвижение, оптовая торговля)          10000.0   \n",
              "44  Производство мультимедиа, контента, редакторск...          10000.0   \n",
              "45  Электронно-вычислительная, оптическая, контрол...          10000.0   \n",
              "46  Бытовая техника, электроника, климатическое об...          10000.0   \n",
              "47                                 Продюсерский центр          10000.0   \n",
              "48             Общественная, политическая организация          10417.0   \n",
              "49  Фармацевтическая продукция (продвижение, оптов...          10603.0   \n",
              "\n",
              "    max_salary_from  min_salary_to  max_salary_to  \n",
              "0          500000.0        21206.0       200000.0  \n",
              "1          500000.0        25000.0      1000000.0  \n",
              "2          160000.0        17064.0       140000.0  \n",
              "3          250000.0        12205.0       300000.0  \n",
              "4          500000.0          850.0      1000000.0  \n",
              "5          500000.0           60.0      1000000.0  \n",
              "6          500000.0          850.0       935176.0  \n",
              "7          150000.0        24409.0        90000.0  \n",
              "8          150000.0        24409.0        80000.0  \n",
              "9          500000.0        12205.0       600000.0  \n",
              "10         292242.0        15256.0       350691.0  \n",
              "11         320000.0        10603.0       420000.0  \n",
              "12         300000.0        24409.0       300000.0  \n",
              "13         200000.0        22000.0       250000.0  \n",
              "14         250000.0         1500.0       213000.0  \n",
              "15         250000.0        18307.0       250000.0  \n",
              "16         300000.0         6000.0       400000.0  \n",
              "17         150000.0        18307.0       160000.0  \n",
              "18         300000.0        18307.0       400000.0  \n",
              "19         204570.0        30000.0       200000.0  \n",
              "20         250000.0         5301.0       400000.0  \n",
              "21         170000.0        14646.0       250000.0  \n",
              "22         350000.0         6000.0       250000.0  \n",
              "23         150000.0        18307.0       250000.0  \n",
              "24        1000000.0        16745.0       600000.0  \n",
              "25         500000.0         2338.0      1000000.0  \n",
              "26         350000.0        13254.0       450000.0  \n",
              "27         300000.0        10000.0       200000.0  \n",
              "28         250000.0        18000.0       325000.0  \n",
              "29         150000.0        20000.0       146121.0  \n",
              "30         250000.0        13425.0       250000.0  \n",
              "31         300000.0        18000.0       300000.0  \n",
              "32         300000.0        18307.0       300000.0  \n",
              "33         225000.0         9764.0       290000.0  \n",
              "34         220000.0         9764.0       375000.0  \n",
              "35         220000.0         9764.0       290000.0  \n",
              "36         200000.0        15800.0       260000.0  \n",
              "37         500000.0        10000.0       200000.0  \n",
              "38         500000.0        30512.0      1000000.0  \n",
              "39         300000.0        15000.0       300000.0  \n",
              "40         250000.0        14646.0       325000.0  \n",
              "41         250000.0        30000.0       500000.0  \n",
              "42         250000.0        30000.0       200000.0  \n",
              "43         250000.0        31732.0       500000.0  \n",
              "44         200000.0        15000.0       300000.0  \n",
              "45         200000.0        20000.0       210000.0  \n",
              "46         150000.0        14646.0       300000.0  \n",
              "47         150000.0        15000.0       150000.0  \n",
              "48         146456.0        16745.0       180630.0  \n",
              "49         270000.0        21206.0       345000.0  "
            ]
          },
          "metadata": {},
          "output_type": "display_data"
        }
      ],
      "source": [
        "# минимальные и максимальные значения для границ зарплатной вилки в зависимости от сферы деятельности\n",
        "query_4_3_2 = f'''\n",
        "    SELECT  ind.name,\n",
        "\t        min(salary_from) as min_salary_from, max(salary_from) as max_salary_from,\n",
        "\t        min(salary_to) as min_salary_to, max(salary_to) as max_salary_to\n",
        "    FROM public.vacancies v\n",
        "\tJOIN public.employers emp ON v.employer_id=emp.id\n",
        "\tJOIN public.employers_industries emp_ind ON emp.id=emp_ind.employer_id\n",
        "\tJOIN public.industries ind ON emp_ind.industry_id=ind.id\n",
        "\tGROUP BY ind.id\n",
        "\tORDER BY min_salary_from, max_salary_from DESC, min_salary_to, max_salary_to DESC\n",
        "'''\n",
        "\n",
        "df = pd.read_sql_query(query_4_3_2, connection)\n",
        "display(df.head(50))"
      ]
    },
    {
      "cell_type": "markdown",
      "id": "f3fdaec9-5fd3-4260-9cf5-1d7406b628a5",
      "metadata": {
        "id": "f3fdaec9-5fd3-4260-9cf5-1d7406b628a5"
      },
      "source": [
        "4. Напишите запрос, который выведет количество вакансий для каждого сочетания типа рабочего графика (schedule) и типа трудоустройства (employment), используемого в вакансиях. Результат отсортируйте по убыванию количества.\n"
      ]
    },
    {
      "cell_type": "code",
      "execution_count": 272,
      "id": "1ea710ec-871b-431e-9462-c7d0fd87011b",
      "metadata": {
        "id": "1ea710ec-871b-431e-9462-c7d0fd87011b"
      },
      "outputs": [],
      "source": [
        "query_4_4 = f'''\n",
        "    SELECT format('%s - %s',schedule,employment) as type, count(id)\n",
        "    FROM public.vacancies\n",
        "    GROUP BY schedule, employment\n",
        "    ORDER BY count DESC\n",
        "'''"
      ]
    },
    {
      "cell_type": "code",
      "execution_count": 273,
      "id": "lGUVqavdo4JQ",
      "metadata": {
        "id": "lGUVqavdo4JQ"
      },
      "outputs": [
        {
          "name": "stderr",
          "output_type": "stream",
          "text": [
            "C:\\Users\\sheme\\AppData\\Local\\Temp\\ipykernel_12988\\4268832789.py:1: UserWarning: pandas only supports SQLAlchemy connectable (engine/connection) or database string URI or sqlite3 DBAPI2 connection. Other DBAPI2 objects are not tested. Please consider using SQLAlchemy.\n",
            "  df = pd.read_sql_query(query_4_4, connection)\n"
          ]
        },
        {
          "data": {
            "text/html": [
              "<div>\n",
              "<style scoped>\n",
              "    .dataframe tbody tr th:only-of-type {\n",
              "        vertical-align: middle;\n",
              "    }\n",
              "\n",
              "    .dataframe tbody tr th {\n",
              "        vertical-align: top;\n",
              "    }\n",
              "\n",
              "    .dataframe thead th {\n",
              "        text-align: right;\n",
              "    }\n",
              "</style>\n",
              "<table border=\"1\" class=\"dataframe\">\n",
              "  <thead>\n",
              "    <tr style=\"text-align: right;\">\n",
              "      <th></th>\n",
              "      <th>type</th>\n",
              "      <th>count</th>\n",
              "    </tr>\n",
              "  </thead>\n",
              "  <tbody>\n",
              "    <tr>\n",
              "      <th>0</th>\n",
              "      <td>Полный день - Полная занятость</td>\n",
              "      <td>35367</td>\n",
              "    </tr>\n",
              "    <tr>\n",
              "      <th>1</th>\n",
              "      <td>Удаленная работа - Полная занятость</td>\n",
              "      <td>7802</td>\n",
              "    </tr>\n",
              "    <tr>\n",
              "      <th>2</th>\n",
              "      <td>Гибкий график - Полная занятость</td>\n",
              "      <td>1593</td>\n",
              "    </tr>\n",
              "    <tr>\n",
              "      <th>3</th>\n",
              "      <td>Удаленная работа - Частичная занятость</td>\n",
              "      <td>1312</td>\n",
              "    </tr>\n",
              "    <tr>\n",
              "      <th>4</th>\n",
              "      <td>Сменный график - Полная занятость</td>\n",
              "      <td>940</td>\n",
              "    </tr>\n",
              "    <tr>\n",
              "      <th>5</th>\n",
              "      <td>Полный день - Стажировка</td>\n",
              "      <td>569</td>\n",
              "    </tr>\n",
              "    <tr>\n",
              "      <th>6</th>\n",
              "      <td>Вахтовый метод - Полная занятость</td>\n",
              "      <td>367</td>\n",
              "    </tr>\n",
              "    <tr>\n",
              "      <th>7</th>\n",
              "      <td>Полный день - Частичная занятость</td>\n",
              "      <td>347</td>\n",
              "    </tr>\n",
              "    <tr>\n",
              "      <th>8</th>\n",
              "      <td>Гибкий график - Частичная занятость</td>\n",
              "      <td>312</td>\n",
              "    </tr>\n",
              "    <tr>\n",
              "      <th>9</th>\n",
              "      <td>Полный день - Проектная работа</td>\n",
              "      <td>141</td>\n",
              "    </tr>\n",
              "    <tr>\n",
              "      <th>10</th>\n",
              "      <td>Удаленная работа - Проектная работа</td>\n",
              "      <td>133</td>\n",
              "    </tr>\n",
              "    <tr>\n",
              "      <th>11</th>\n",
              "      <td>Гибкий график - Стажировка</td>\n",
              "      <td>116</td>\n",
              "    </tr>\n",
              "    <tr>\n",
              "      <th>12</th>\n",
              "      <td>Сменный график - Частичная занятость</td>\n",
              "      <td>101</td>\n",
              "    </tr>\n",
              "    <tr>\n",
              "      <th>13</th>\n",
              "      <td>Удаленная работа - Стажировка</td>\n",
              "      <td>64</td>\n",
              "    </tr>\n",
              "    <tr>\n",
              "      <th>14</th>\n",
              "      <td>Гибкий график - Проектная работа</td>\n",
              "      <td>18</td>\n",
              "    </tr>\n",
              "    <tr>\n",
              "      <th>15</th>\n",
              "      <td>Сменный график - Стажировка</td>\n",
              "      <td>12</td>\n",
              "    </tr>\n",
              "    <tr>\n",
              "      <th>16</th>\n",
              "      <td>Вахтовый метод - Проектная работа</td>\n",
              "      <td>2</td>\n",
              "    </tr>\n",
              "    <tr>\n",
              "      <th>17</th>\n",
              "      <td>Сменный график - Проектная работа</td>\n",
              "      <td>1</td>\n",
              "    </tr>\n",
              "  </tbody>\n",
              "</table>\n",
              "</div>"
            ],
            "text/plain": [
              "                                      type  count\n",
              "0           Полный день - Полная занятость  35367\n",
              "1      Удаленная работа - Полная занятость   7802\n",
              "2         Гибкий график - Полная занятость   1593\n",
              "3   Удаленная работа - Частичная занятость   1312\n",
              "4        Сменный график - Полная занятость    940\n",
              "5                 Полный день - Стажировка    569\n",
              "6        Вахтовый метод - Полная занятость    367\n",
              "7        Полный день - Частичная занятость    347\n",
              "8      Гибкий график - Частичная занятость    312\n",
              "9           Полный день - Проектная работа    141\n",
              "10     Удаленная работа - Проектная работа    133\n",
              "11              Гибкий график - Стажировка    116\n",
              "12    Сменный график - Частичная занятость    101\n",
              "13           Удаленная работа - Стажировка     64\n",
              "14        Гибкий график - Проектная работа     18\n",
              "15             Сменный график - Стажировка     12\n",
              "16       Вахтовый метод - Проектная работа      2\n",
              "17       Сменный график - Проектная работа      1"
            ]
          },
          "metadata": {},
          "output_type": "display_data"
        }
      ],
      "source": [
        "df = pd.read_sql_query(query_4_4, connection)\n",
        "display(df)"
      ]
    },
    {
      "cell_type": "markdown",
      "id": "0136ffee-0ead-4a6b-b608-61d1c753a438",
      "metadata": {
        "id": "0136ffee-0ead-4a6b-b608-61d1c753a438"
      },
      "source": [
        "5. Напишите запрос, выводящий значения поля Требуемый опыт работы (experience) в порядке возрастания количества вакансий, в которых указан данный вариант опыта. "
      ]
    },
    {
      "cell_type": "code",
      "execution_count": 274,
      "id": "5b3a8e79-f7ab-4008-b767-12aea3a205ea",
      "metadata": {
        "id": "5b3a8e79-f7ab-4008-b767-12aea3a205ea"
      },
      "outputs": [],
      "source": [
        "query_4_5 = f'''\n",
        "    SELECT experience, count(id)\n",
        "    FROM public.vacancies\n",
        "    GROUP BY experience\n",
        "    ORDER BY count\n",
        "'''"
      ]
    },
    {
      "cell_type": "code",
      "execution_count": 275,
      "id": "3Is64Y-hpDpq",
      "metadata": {
        "id": "3Is64Y-hpDpq"
      },
      "outputs": [
        {
          "name": "stderr",
          "output_type": "stream",
          "text": [
            "C:\\Users\\sheme\\AppData\\Local\\Temp\\ipykernel_12988\\3611053821.py:1: UserWarning: pandas only supports SQLAlchemy connectable (engine/connection) or database string URI or sqlite3 DBAPI2 connection. Other DBAPI2 objects are not tested. Please consider using SQLAlchemy.\n",
            "  df = pd.read_sql_query(query_4_5, connection)\n"
          ]
        },
        {
          "data": {
            "text/html": [
              "<div>\n",
              "<style scoped>\n",
              "    .dataframe tbody tr th:only-of-type {\n",
              "        vertical-align: middle;\n",
              "    }\n",
              "\n",
              "    .dataframe tbody tr th {\n",
              "        vertical-align: top;\n",
              "    }\n",
              "\n",
              "    .dataframe thead th {\n",
              "        text-align: right;\n",
              "    }\n",
              "</style>\n",
              "<table border=\"1\" class=\"dataframe\">\n",
              "  <thead>\n",
              "    <tr style=\"text-align: right;\">\n",
              "      <th></th>\n",
              "      <th>experience</th>\n",
              "      <th>count</th>\n",
              "    </tr>\n",
              "  </thead>\n",
              "  <tbody>\n",
              "    <tr>\n",
              "      <th>0</th>\n",
              "      <td>Более 6 лет</td>\n",
              "      <td>1337</td>\n",
              "    </tr>\n",
              "    <tr>\n",
              "      <th>1</th>\n",
              "      <td>Нет опыта</td>\n",
              "      <td>7197</td>\n",
              "    </tr>\n",
              "    <tr>\n",
              "      <th>2</th>\n",
              "      <td>От 3 до 6 лет</td>\n",
              "      <td>14511</td>\n",
              "    </tr>\n",
              "    <tr>\n",
              "      <th>3</th>\n",
              "      <td>От 1 года до 3 лет</td>\n",
              "      <td>26152</td>\n",
              "    </tr>\n",
              "  </tbody>\n",
              "</table>\n",
              "</div>"
            ],
            "text/plain": [
              "           experience  count\n",
              "0         Более 6 лет   1337\n",
              "1           Нет опыта   7197\n",
              "2       От 3 до 6 лет  14511\n",
              "3  От 1 года до 3 лет  26152"
            ]
          },
          "metadata": {},
          "output_type": "display_data"
        }
      ],
      "source": [
        "df = pd.read_sql_query(query_4_5, connection)\n",
        "display(df)"
      ]
    },
    {
      "cell_type": "markdown",
      "id": "oq2b7n1QpIka",
      "metadata": {
        "id": "oq2b7n1QpIka"
      },
      "source": [
        "***"
      ]
    },
    {
      "cell_type": "markdown",
      "id": "b7f5c75b",
      "metadata": {},
      "source": [
        "**Выводы по детальному анализу вакансий**\n",
        "\n",
        "* Наибольшее количество вакансий размещены в крупных городах-миллионниках (Москва, Санкт-Петербург, Новосибирск, Екатеринбург и т.д.). Москва - абсолютный лидер в этом рейтинге, более 5 тыс. вакансий. За ним следует Санкт-Петербург, где около 2800 вакансий.\n",
        "* Рассматриваются вакансии не только на территории РФ, но и в зарубежных странах (Республика Беларусь, Казахстан, Узбекистан, Литва, Сербия, Германия и др.)\n",
        "\n",
        "* Данные о границах зарплатой вилки заполнены только в половине вакансий (примерно 24 тыс. из 49 тыс. вакансий), этот факт необходимо учесть при разработке алгоритмов рекомендаций вакансий (Например, предсказывать эти значения из аналогичных вакансий, заполнять модальным значением или задать низкий весовой коэфиициент для этого признака при отборе подходящих вакансий и т.д.)\n",
        "\n",
        "* Разброс значений для границ зарплатной вилки слишком велик (нижняя граница: 30-1000000 руб., верхняя: 60-1000000 руб.), что делает расчет среднего значения для этих параметров не информативным. Кроме того, разброс уровня ЗП может существенно различаться в зависимости от региона и сферы деятельности предприятия.\n",
        "Рекомендуется дополнительно исследовать эти параметры, например построить распределение, вычислить модальное значение, проследить корреляцию с выше указанными признаками.\n",
        "* Присутствуют потенциально аномальные значения в зарплатной вилке (слишком низкие значения: 30, 70 руб. и т.д.), возможно данные ошибочно загружены не в рублях или не учтена кратность, например тыс.руб.\n",
        "\n",
        "* В большинстве вакансий (ок. 70%) требуются сотрудники на полный рабочий день с полной занятостью, 15% вакансий рассчитаны на удаленную работу с полной занятостью.\n",
        "\n",
        "* В большинсте вакансий (50%) требуются соискатели с опытом работы от 1 года до 3 лет, в 30% вакансий необходимый опыт составляет от 3 до 6 лет.\n",
        "Но присутствует достаточно большое кол-во вакансий (15%), где готовы взять соискателя без опыта работы."
      ]
    },
    {
      "cell_type": "markdown",
      "id": "7ea20ab6-04a7-40a0-adec-443a0e5a42c3",
      "metadata": {
        "id": "7ea20ab6-04a7-40a0-adec-443a0e5a42c3"
      },
      "source": [
        "# Юнит 5. Анализ работодателей"
      ]
    },
    {
      "cell_type": "markdown",
      "id": "968aed80-74ef-4ffb-b5bf-c65b84e9caea",
      "metadata": {
        "id": "968aed80-74ef-4ffb-b5bf-c65b84e9caea"
      },
      "source": [
        "1. Напишите запрос, который позволит узнать, какие работодатели находятся на первом и пятом месте по количеству вакансий."
      ]
    },
    {
      "cell_type": "code",
      "execution_count": 276,
      "id": "f2d62796-d400-4ec1-a675-88112739a50e",
      "metadata": {
        "id": "f2d62796-d400-4ec1-a675-88112739a50e"
      },
      "outputs": [],
      "source": [
        "query_5_1 = f'''\n",
        "    SELECT e.name, count(v.id)\n",
        "    FROM public.vacancies v\n",
        "    JOIN public.employers e\n",
        "    ON v.employer_id=e.id\n",
        "    GROUP BY e.id\n",
        "    ORDER BY count DESC\n",
        "    LIMIT 5\n",
        "'''"
      ]
    },
    {
      "cell_type": "code",
      "execution_count": 277,
      "id": "64tOMkAxqkQk",
      "metadata": {
        "id": "64tOMkAxqkQk"
      },
      "outputs": [
        {
          "name": "stderr",
          "output_type": "stream",
          "text": [
            "C:\\Users\\sheme\\AppData\\Local\\Temp\\ipykernel_12988\\2915140023.py:1: UserWarning: pandas only supports SQLAlchemy connectable (engine/connection) or database string URI or sqlite3 DBAPI2 connection. Other DBAPI2 objects are not tested. Please consider using SQLAlchemy.\n",
            "  df = pd.read_sql_query(query_5_1, connection)\n"
          ]
        },
        {
          "data": {
            "text/html": [
              "<div>\n",
              "<style scoped>\n",
              "    .dataframe tbody tr th:only-of-type {\n",
              "        vertical-align: middle;\n",
              "    }\n",
              "\n",
              "    .dataframe tbody tr th {\n",
              "        vertical-align: top;\n",
              "    }\n",
              "\n",
              "    .dataframe thead th {\n",
              "        text-align: right;\n",
              "    }\n",
              "</style>\n",
              "<table border=\"1\" class=\"dataframe\">\n",
              "  <thead>\n",
              "    <tr style=\"text-align: right;\">\n",
              "      <th></th>\n",
              "      <th>name</th>\n",
              "      <th>count</th>\n",
              "    </tr>\n",
              "  </thead>\n",
              "  <tbody>\n",
              "    <tr>\n",
              "      <th>0</th>\n",
              "      <td>Яндекс</td>\n",
              "      <td>1933</td>\n",
              "    </tr>\n",
              "    <tr>\n",
              "      <th>1</th>\n",
              "      <td>Ростелеком</td>\n",
              "      <td>491</td>\n",
              "    </tr>\n",
              "    <tr>\n",
              "      <th>2</th>\n",
              "      <td>Тинькофф</td>\n",
              "      <td>444</td>\n",
              "    </tr>\n",
              "    <tr>\n",
              "      <th>3</th>\n",
              "      <td>СБЕР</td>\n",
              "      <td>428</td>\n",
              "    </tr>\n",
              "    <tr>\n",
              "      <th>4</th>\n",
              "      <td>Газпром нефть</td>\n",
              "      <td>331</td>\n",
              "    </tr>\n",
              "  </tbody>\n",
              "</table>\n",
              "</div>"
            ],
            "text/plain": [
              "            name  count\n",
              "0         Яндекс   1933\n",
              "1     Ростелеком    491\n",
              "2       Тинькофф    444\n",
              "3           СБЕР    428\n",
              "4  Газпром нефть    331"
            ]
          },
          "metadata": {},
          "output_type": "display_data"
        }
      ],
      "source": [
        "df = pd.read_sql_query(query_5_1, connection)\n",
        "display(df)"
      ]
    },
    {
      "cell_type": "markdown",
      "id": "68377cfc-b378-43dc-ab7d-1195abf2c515",
      "metadata": {
        "id": "68377cfc-b378-43dc-ab7d-1195abf2c515"
      },
      "source": [
        "2. Напишите запрос, который для каждого региона выведет количество работодателей и вакансий в нём.\n",
        "Среди регионов, в которых нет вакансий, найдите тот, в котором наибольшее количество работодателей.\n"
      ]
    },
    {
      "cell_type": "code",
      "execution_count": 278,
      "id": "dd7df27a-e3e8-412e-a21a-5d389b71e891",
      "metadata": {
        "id": "dd7df27a-e3e8-412e-a21a-5d389b71e891"
      },
      "outputs": [],
      "source": [
        "query_5_2 = f'''\n",
        "    SELECT a.name, count(distinct e.id) emp_count, count(distinct v.id) vac_count --считаем кол-во уникальных(!) компаний в регионе\n",
        "    FROM public.areas a\n",
        "    LEFT JOIN public.employers e ON a.id=e.area\n",
        "    LEFT JOIN public.vacancies v ON v.area_id=a.id\n",
        "    GROUP BY a.id\n",
        "    ORDER BY vac_count ASC, emp_count DESC\n",
        "'''"
      ]
    },
    {
      "cell_type": "code",
      "execution_count": 279,
      "id": "x1ikWbydrbf6",
      "metadata": {
        "id": "x1ikWbydrbf6"
      },
      "outputs": [
        {
          "name": "stderr",
          "output_type": "stream",
          "text": [
            "C:\\Users\\sheme\\AppData\\Local\\Temp\\ipykernel_12988\\2644321718.py:1: UserWarning: pandas only supports SQLAlchemy connectable (engine/connection) or database string URI or sqlite3 DBAPI2 connection. Other DBAPI2 objects are not tested. Please consider using SQLAlchemy.\n",
            "  df = pd.read_sql_query(query_5_2, connection)\n"
          ]
        },
        {
          "data": {
            "text/html": [
              "<div>\n",
              "<style scoped>\n",
              "    .dataframe tbody tr th:only-of-type {\n",
              "        vertical-align: middle;\n",
              "    }\n",
              "\n",
              "    .dataframe tbody tr th {\n",
              "        vertical-align: top;\n",
              "    }\n",
              "\n",
              "    .dataframe thead th {\n",
              "        text-align: right;\n",
              "    }\n",
              "</style>\n",
              "<table border=\"1\" class=\"dataframe\">\n",
              "  <thead>\n",
              "    <tr style=\"text-align: right;\">\n",
              "      <th></th>\n",
              "      <th>name</th>\n",
              "      <th>emp_count</th>\n",
              "      <th>vac_count</th>\n",
              "    </tr>\n",
              "  </thead>\n",
              "  <tbody>\n",
              "    <tr>\n",
              "      <th>0</th>\n",
              "      <td>Россия</td>\n",
              "      <td>410</td>\n",
              "      <td>0</td>\n",
              "    </tr>\n",
              "    <tr>\n",
              "      <th>1</th>\n",
              "      <td>Казахстан</td>\n",
              "      <td>207</td>\n",
              "      <td>0</td>\n",
              "    </tr>\n",
              "    <tr>\n",
              "      <th>2</th>\n",
              "      <td>Московская область</td>\n",
              "      <td>75</td>\n",
              "      <td>0</td>\n",
              "    </tr>\n",
              "    <tr>\n",
              "      <th>3</th>\n",
              "      <td>Краснодарский край</td>\n",
              "      <td>19</td>\n",
              "      <td>0</td>\n",
              "    </tr>\n",
              "    <tr>\n",
              "      <th>4</th>\n",
              "      <td>Ростовская область</td>\n",
              "      <td>18</td>\n",
              "      <td>0</td>\n",
              "    </tr>\n",
              "    <tr>\n",
              "      <th>...</th>\n",
              "      <td>...</td>\n",
              "      <td>...</td>\n",
              "      <td>...</td>\n",
              "    </tr>\n",
              "    <tr>\n",
              "      <th>1357</th>\n",
              "      <td>Алматы</td>\n",
              "      <td>721</td>\n",
              "      <td>1892</td>\n",
              "    </tr>\n",
              "    <tr>\n",
              "      <th>1358</th>\n",
              "      <td>Новосибирск</td>\n",
              "      <td>573</td>\n",
              "      <td>2006</td>\n",
              "    </tr>\n",
              "    <tr>\n",
              "      <th>1359</th>\n",
              "      <td>Минск</td>\n",
              "      <td>1115</td>\n",
              "      <td>2112</td>\n",
              "    </tr>\n",
              "    <tr>\n",
              "      <th>1360</th>\n",
              "      <td>Санкт-Петербург</td>\n",
              "      <td>2217</td>\n",
              "      <td>2851</td>\n",
              "    </tr>\n",
              "    <tr>\n",
              "      <th>1361</th>\n",
              "      <td>Москва</td>\n",
              "      <td>5864</td>\n",
              "      <td>5333</td>\n",
              "    </tr>\n",
              "  </tbody>\n",
              "</table>\n",
              "<p>1362 rows × 3 columns</p>\n",
              "</div>"
            ],
            "text/plain": [
              "                    name  emp_count  vac_count\n",
              "0                 Россия        410          0\n",
              "1              Казахстан        207          0\n",
              "2     Московская область         75          0\n",
              "3     Краснодарский край         19          0\n",
              "4     Ростовская область         18          0\n",
              "...                  ...        ...        ...\n",
              "1357              Алматы        721       1892\n",
              "1358         Новосибирск        573       2006\n",
              "1359               Минск       1115       2112\n",
              "1360     Санкт-Петербург       2217       2851\n",
              "1361              Москва       5864       5333\n",
              "\n",
              "[1362 rows x 3 columns]"
            ]
          },
          "metadata": {},
          "output_type": "display_data"
        }
      ],
      "source": [
        "df = pd.read_sql_query(query_5_2, connection)\n",
        "display(df)"
      ]
    },
    {
      "cell_type": "markdown",
      "id": "f2fe0acb-ab1a-4e15-9326-2560e22d73c1",
      "metadata": {
        "id": "f2fe0acb-ab1a-4e15-9326-2560e22d73c1"
      },
      "source": [
        "3. Для каждого работодателя посчитайте количество регионов, в которых он публикует свои вакансии. Отсортируйте результат по убыванию количества.\n"
      ]
    },
    {
      "cell_type": "code",
      "execution_count": 280,
      "id": "6271f8ad-bd2e-4196-ae4a-5b39c4c1010e",
      "metadata": {
        "id": "6271f8ad-bd2e-4196-ae4a-5b39c4c1010e"
      },
      "outputs": [],
      "source": [
        "query_5_3 = f'''\n",
        "    SELECT e.name, count(distinct v.area_id) as cnt_areas --считаем кол-во уникальных(!) регионов для компании\n",
        "    FROM public.employers e\n",
        "    JOIN public.vacancies v\n",
        "    ON v.employer_id=e.id\n",
        "    GROUP BY e.id\n",
        "    ORDER BY cnt_areas desc\n",
        "'''"
      ]
    },
    {
      "cell_type": "code",
      "execution_count": 281,
      "id": "1EIvX3HasH4F",
      "metadata": {
        "id": "1EIvX3HasH4F"
      },
      "outputs": [
        {
          "name": "stderr",
          "output_type": "stream",
          "text": [
            "C:\\Users\\sheme\\AppData\\Local\\Temp\\ipykernel_12988\\1682211407.py:1: UserWarning: pandas only supports SQLAlchemy connectable (engine/connection) or database string URI or sqlite3 DBAPI2 connection. Other DBAPI2 objects are not tested. Please consider using SQLAlchemy.\n",
            "  df = pd.read_sql_query(query_5_3, connection)\n"
          ]
        },
        {
          "data": {
            "text/html": [
              "<div>\n",
              "<style scoped>\n",
              "    .dataframe tbody tr th:only-of-type {\n",
              "        vertical-align: middle;\n",
              "    }\n",
              "\n",
              "    .dataframe tbody tr th {\n",
              "        vertical-align: top;\n",
              "    }\n",
              "\n",
              "    .dataframe thead th {\n",
              "        text-align: right;\n",
              "    }\n",
              "</style>\n",
              "<table border=\"1\" class=\"dataframe\">\n",
              "  <thead>\n",
              "    <tr style=\"text-align: right;\">\n",
              "      <th></th>\n",
              "      <th>name</th>\n",
              "      <th>cnt_areas</th>\n",
              "    </tr>\n",
              "  </thead>\n",
              "  <tbody>\n",
              "    <tr>\n",
              "      <th>0</th>\n",
              "      <td>Яндекс</td>\n",
              "      <td>181</td>\n",
              "    </tr>\n",
              "    <tr>\n",
              "      <th>1</th>\n",
              "      <td>Ростелеком</td>\n",
              "      <td>152</td>\n",
              "    </tr>\n",
              "    <tr>\n",
              "      <th>2</th>\n",
              "      <td>Спецремонт</td>\n",
              "      <td>116</td>\n",
              "    </tr>\n",
              "    <tr>\n",
              "      <th>3</th>\n",
              "      <td>Поляков Денис Иванович</td>\n",
              "      <td>88</td>\n",
              "    </tr>\n",
              "    <tr>\n",
              "      <th>4</th>\n",
              "      <td>ООО ЕФИН</td>\n",
              "      <td>71</td>\n",
              "    </tr>\n",
              "    <tr>\n",
              "      <th>...</th>\n",
              "      <td>...</td>\n",
              "      <td>...</td>\n",
              "    </tr>\n",
              "    <tr>\n",
              "      <th>14901</th>\n",
              "      <td>НПП Авиатрон</td>\n",
              "      <td>1</td>\n",
              "    </tr>\n",
              "    <tr>\n",
              "      <th>14902</th>\n",
              "      <td>Центр дистанционных торгов</td>\n",
              "      <td>1</td>\n",
              "    </tr>\n",
              "    <tr>\n",
              "      <th>14903</th>\n",
              "      <td>Городские Телекоммуникационные Системы</td>\n",
              "      <td>1</td>\n",
              "    </tr>\n",
              "    <tr>\n",
              "      <th>14904</th>\n",
              "      <td>Введенский, Отель</td>\n",
              "      <td>1</td>\n",
              "    </tr>\n",
              "    <tr>\n",
              "      <th>14905</th>\n",
              "      <td>Группа Компаний Автоимпорт</td>\n",
              "      <td>1</td>\n",
              "    </tr>\n",
              "  </tbody>\n",
              "</table>\n",
              "<p>14906 rows × 2 columns</p>\n",
              "</div>"
            ],
            "text/plain": [
              "                                         name  cnt_areas\n",
              "0                                      Яндекс        181\n",
              "1                                  Ростелеком        152\n",
              "2                                  Спецремонт        116\n",
              "3                      Поляков Денис Иванович         88\n",
              "4                                   ООО ЕФИН          71\n",
              "...                                       ...        ...\n",
              "14901                            НПП Авиатрон          1\n",
              "14902              Центр дистанционных торгов          1\n",
              "14903  Городские Телекоммуникационные Системы          1\n",
              "14904                       Введенский, Отель          1\n",
              "14905              Группа Компаний Автоимпорт          1\n",
              "\n",
              "[14906 rows x 2 columns]"
            ]
          },
          "metadata": {},
          "output_type": "display_data"
        }
      ],
      "source": [
        "df = pd.read_sql_query(query_5_3, connection)\n",
        "display(df)"
      ]
    },
    {
      "cell_type": "markdown",
      "id": "eab2206d-d95b-468b-8e5f-34381abf0ce7",
      "metadata": {
        "id": "eab2206d-d95b-468b-8e5f-34381abf0ce7"
      },
      "source": [
        "4. Напишите запрос для подсчёта количества работодателей, у которых не указана сфера деятельности. "
      ]
    },
    {
      "cell_type": "code",
      "execution_count": 282,
      "id": "80defb23-bfb1-4a18-8be6-bf36aa7165d5",
      "metadata": {
        "id": "80defb23-bfb1-4a18-8be6-bf36aa7165d5"
      },
      "outputs": [],
      "source": [
        "query_5_4 = f'''\n",
        "    SELECT count(e.id)\n",
        "    FROM public.employers e --сфера может быть не указана, используем внешнее соединение\n",
        "    LEFT JOIN public.employers_industries ei ON e.id=ei.employer_id \n",
        "    LEFT JOIN public.industries i ON i.id=ei.industry_id\n",
        "    WHERE i.id is NULL\n",
        "'''"
      ]
    },
    {
      "cell_type": "code",
      "execution_count": 283,
      "id": "Dp_yCx6ysQSu",
      "metadata": {
        "id": "Dp_yCx6ysQSu"
      },
      "outputs": [
        {
          "name": "stderr",
          "output_type": "stream",
          "text": [
            "C:\\Users\\sheme\\AppData\\Local\\Temp\\ipykernel_12988\\1196796479.py:1: UserWarning: pandas only supports SQLAlchemy connectable (engine/connection) or database string URI or sqlite3 DBAPI2 connection. Other DBAPI2 objects are not tested. Please consider using SQLAlchemy.\n",
            "  df = pd.read_sql_query(query_5_4, connection)\n"
          ]
        },
        {
          "data": {
            "text/html": [
              "<div>\n",
              "<style scoped>\n",
              "    .dataframe tbody tr th:only-of-type {\n",
              "        vertical-align: middle;\n",
              "    }\n",
              "\n",
              "    .dataframe tbody tr th {\n",
              "        vertical-align: top;\n",
              "    }\n",
              "\n",
              "    .dataframe thead th {\n",
              "        text-align: right;\n",
              "    }\n",
              "</style>\n",
              "<table border=\"1\" class=\"dataframe\">\n",
              "  <thead>\n",
              "    <tr style=\"text-align: right;\">\n",
              "      <th></th>\n",
              "      <th>count</th>\n",
              "    </tr>\n",
              "  </thead>\n",
              "  <tbody>\n",
              "    <tr>\n",
              "      <th>0</th>\n",
              "      <td>8419</td>\n",
              "    </tr>\n",
              "  </tbody>\n",
              "</table>\n",
              "</div>"
            ],
            "text/plain": [
              "   count\n",
              "0   8419"
            ]
          },
          "metadata": {},
          "output_type": "display_data"
        }
      ],
      "source": [
        "df = pd.read_sql_query(query_5_4, connection)\n",
        "display(df)"
      ]
    },
    {
      "cell_type": "markdown",
      "id": "0112af31-f6b0-4e3b-82ab-71296e752e5e",
      "metadata": {
        "id": "0112af31-f6b0-4e3b-82ab-71296e752e5e"
      },
      "source": [
        "5. Напишите запрос, чтобы узнать название компании, находящейся на третьем месте в алфавитном списке (по названию) компаний, у которых указано четыре сферы деятельности. "
      ]
    },
    {
      "cell_type": "code",
      "execution_count": 284,
      "id": "973b0cfc-a972-470a-8b4a-68744ef220c4",
      "metadata": {
        "id": "973b0cfc-a972-470a-8b4a-68744ef220c4"
      },
      "outputs": [],
      "source": [
        "query_5_5 = f'''\n",
        "    SELECT e.name, count(i.id)\n",
        "    FROM public.employers e \n",
        "    JOIN public.employers_industries ei ON e.id=ei.employer_id \n",
        "    JOIN public.industries i ON i.id=ei.industry_id\n",
        "    GROUP BY e.id\n",
        "    HAVING count(i.id)=4\n",
        "    ORDER BY name\n",
        "'''"
      ]
    },
    {
      "cell_type": "code",
      "execution_count": 285,
      "id": "xsPtpp8EsaED",
      "metadata": {
        "id": "xsPtpp8EsaED"
      },
      "outputs": [
        {
          "name": "stderr",
          "output_type": "stream",
          "text": [
            "C:\\Users\\sheme\\AppData\\Local\\Temp\\ipykernel_12988\\1337360513.py:1: UserWarning: pandas only supports SQLAlchemy connectable (engine/connection) or database string URI or sqlite3 DBAPI2 connection. Other DBAPI2 objects are not tested. Please consider using SQLAlchemy.\n",
            "  df = pd.read_sql_query(query_5_5, connection)\n"
          ]
        },
        {
          "data": {
            "text/html": [
              "<div>\n",
              "<style scoped>\n",
              "    .dataframe tbody tr th:only-of-type {\n",
              "        vertical-align: middle;\n",
              "    }\n",
              "\n",
              "    .dataframe tbody tr th {\n",
              "        vertical-align: top;\n",
              "    }\n",
              "\n",
              "    .dataframe thead th {\n",
              "        text-align: right;\n",
              "    }\n",
              "</style>\n",
              "<table border=\"1\" class=\"dataframe\">\n",
              "  <thead>\n",
              "    <tr style=\"text-align: right;\">\n",
              "      <th></th>\n",
              "      <th>name</th>\n",
              "      <th>count</th>\n",
              "    </tr>\n",
              "  </thead>\n",
              "  <tbody>\n",
              "    <tr>\n",
              "      <th>0</th>\n",
              "      <td>101 Интернет</td>\n",
              "      <td>4</td>\n",
              "    </tr>\n",
              "    <tr>\n",
              "      <th>1</th>\n",
              "      <td>21vek.by</td>\n",
              "      <td>4</td>\n",
              "    </tr>\n",
              "    <tr>\n",
              "      <th>2</th>\n",
              "      <td>2ГИС</td>\n",
              "      <td>4</td>\n",
              "    </tr>\n",
              "    <tr>\n",
              "      <th>3</th>\n",
              "      <td>2К</td>\n",
              "      <td>4</td>\n",
              "    </tr>\n",
              "    <tr>\n",
              "      <th>4</th>\n",
              "      <td>4 пикселя +</td>\n",
              "      <td>4</td>\n",
              "    </tr>\n",
              "    <tr>\n",
              "      <th>...</th>\n",
              "      <td>...</td>\n",
              "      <td>...</td>\n",
              "    </tr>\n",
              "    <tr>\n",
              "      <th>1133</th>\n",
              "      <td>ЮРИОН</td>\n",
              "      <td>4</td>\n",
              "    </tr>\n",
              "    <tr>\n",
              "      <th>1134</th>\n",
              "      <td>ЮТИП Технологии</td>\n",
              "      <td>4</td>\n",
              "    </tr>\n",
              "    <tr>\n",
              "      <th>1135</th>\n",
              "      <td>ЯКласс</td>\n",
              "      <td>4</td>\n",
              "    </tr>\n",
              "    <tr>\n",
              "      <th>1136</th>\n",
              "      <td>ЯрНео</td>\n",
              "      <td>4</td>\n",
              "    </tr>\n",
              "    <tr>\n",
              "      <th>1137</th>\n",
              "      <td>Яшин&amp;Партнёры</td>\n",
              "      <td>4</td>\n",
              "    </tr>\n",
              "  </tbody>\n",
              "</table>\n",
              "<p>1138 rows × 2 columns</p>\n",
              "</div>"
            ],
            "text/plain": [
              "                 name  count\n",
              "0        101 Интернет      4\n",
              "1            21vek.by      4\n",
              "2                2ГИС      4\n",
              "3                  2К      4\n",
              "4         4 пикселя +      4\n",
              "...               ...    ...\n",
              "1133            ЮРИОН      4\n",
              "1134  ЮТИП Технологии      4\n",
              "1135           ЯКласс      4\n",
              "1136            ЯрНео      4\n",
              "1137    Яшин&Партнёры      4\n",
              "\n",
              "[1138 rows x 2 columns]"
            ]
          },
          "metadata": {},
          "output_type": "display_data"
        }
      ],
      "source": [
        "df = pd.read_sql_query(query_5_5, connection)\n",
        "display(df)"
      ]
    },
    {
      "cell_type": "code",
      "execution_count": 286,
      "id": "f22b8222",
      "metadata": {},
      "outputs": [
        {
          "name": "stderr",
          "output_type": "stream",
          "text": [
            "C:\\Users\\sheme\\AppData\\Local\\Temp\\ipykernel_12988\\3544455309.py:11: UserWarning: pandas only supports SQLAlchemy connectable (engine/connection) or database string URI or sqlite3 DBAPI2 connection. Other DBAPI2 objects are not tested. Please consider using SQLAlchemy.\n",
            "  df = pd.read_sql_query(query_5_5_1, connection)\n"
          ]
        },
        {
          "data": {
            "text/html": [
              "<div>\n",
              "<style scoped>\n",
              "    .dataframe tbody tr th:only-of-type {\n",
              "        vertical-align: middle;\n",
              "    }\n",
              "\n",
              "    .dataframe tbody tr th {\n",
              "        vertical-align: top;\n",
              "    }\n",
              "\n",
              "    .dataframe thead th {\n",
              "        text-align: right;\n",
              "    }\n",
              "</style>\n",
              "<table border=\"1\" class=\"dataframe\">\n",
              "  <thead>\n",
              "    <tr style=\"text-align: right;\">\n",
              "      <th></th>\n",
              "      <th>name</th>\n",
              "      <th>count</th>\n",
              "    </tr>\n",
              "  </thead>\n",
              "  <tbody>\n",
              "    <tr>\n",
              "      <th>0</th>\n",
              "      <td>101 Интернет</td>\n",
              "      <td>4</td>\n",
              "    </tr>\n",
              "    <tr>\n",
              "      <th>1</th>\n",
              "      <td>144 бронетанковый ремонтный завод</td>\n",
              "      <td>2</td>\n",
              "    </tr>\n",
              "    <tr>\n",
              "      <th>2</th>\n",
              "      <td>169</td>\n",
              "      <td>5</td>\n",
              "    </tr>\n",
              "    <tr>\n",
              "      <th>3</th>\n",
              "      <td>16-я городская детская поликлиника г.Минска</td>\n",
              "      <td>2</td>\n",
              "    </tr>\n",
              "    <tr>\n",
              "      <th>4</th>\n",
              "      <td>179 СРЗ</td>\n",
              "      <td>2</td>\n",
              "    </tr>\n",
              "    <tr>\n",
              "      <th>...</th>\n",
              "      <td>...</td>\n",
              "      <td>...</td>\n",
              "    </tr>\n",
              "    <tr>\n",
              "      <th>8625</th>\n",
              "      <td>Ясли-сад №374 г. Минска</td>\n",
              "      <td>2</td>\n",
              "    </tr>\n",
              "    <tr>\n",
              "      <th>8626</th>\n",
              "      <td>ЯСП</td>\n",
              "      <td>2</td>\n",
              "    </tr>\n",
              "    <tr>\n",
              "      <th>8627</th>\n",
              "      <td>Ястро-Переработка</td>\n",
              "      <td>3</td>\n",
              "    </tr>\n",
              "    <tr>\n",
              "      <th>8628</th>\n",
              "      <td>ЯТСС</td>\n",
              "      <td>3</td>\n",
              "    </tr>\n",
              "    <tr>\n",
              "      <th>8629</th>\n",
              "      <td>Яшин&amp;Партнёры</td>\n",
              "      <td>4</td>\n",
              "    </tr>\n",
              "  </tbody>\n",
              "</table>\n",
              "<p>8630 rows × 2 columns</p>\n",
              "</div>"
            ],
            "text/plain": [
              "                                             name  count\n",
              "0                                    101 Интернет      4\n",
              "1               144 бронетанковый ремонтный завод      2\n",
              "2                                             169      5\n",
              "3     16-я городская детская поликлиника г.Минска      2\n",
              "4                                         179 СРЗ      2\n",
              "...                                           ...    ...\n",
              "8625                      Ясли-сад №374 г. Минска      2\n",
              "8626                                          ЯСП      2\n",
              "8627                            Ястро-Переработка      3\n",
              "8628                                         ЯТСС      3\n",
              "8629                                Яшин&Партнёры      4\n",
              "\n",
              "[8630 rows x 2 columns]"
            ]
          },
          "metadata": {},
          "output_type": "display_data"
        }
      ],
      "source": [
        "query_5_5_1 = f'''\n",
        "    SELECT e.name, count(i.id)\n",
        "    FROM public.employers e \n",
        "    JOIN public.employers_industries ei ON e.id=ei.employer_id \n",
        "    JOIN public.industries i ON i.id=ei.industry_id\n",
        "    GROUP BY e.id\n",
        "    HAVING count(i.id)>1\n",
        "    ORDER BY name\n",
        "'''\n",
        "\n",
        "df = pd.read_sql_query(query_5_5_1, connection)\n",
        "display(df)"
      ]
    },
    {
      "cell_type": "markdown",
      "id": "3bfcfdaf-755d-4d2b-8ed8-326201dc07ab",
      "metadata": {
        "id": "3bfcfdaf-755d-4d2b-8ed8-326201dc07ab"
      },
      "source": [
        "6. С помощью запроса выясните, у какого количества работодателей в качестве сферы деятельности указана Разработка программного обеспечения.\n"
      ]
    },
    {
      "cell_type": "code",
      "execution_count": 129,
      "id": "ad3f270f-2991-47eb-929b-e8f88a55b0d1",
      "metadata": {
        "id": "ad3f270f-2991-47eb-929b-e8f88a55b0d1"
      },
      "outputs": [],
      "source": [
        "query_5_6 = f'''\n",
        "    SELECT count(*)\n",
        "    FROM public.employers e \n",
        "    JOIN public.employers_industries ei ON e.id=ei.employer_id \n",
        "    JOIN public.industries i ON i.id=ei.industry_id\n",
        "    WHERE i.name like 'Разработка программного обеспечения'\n",
        "'''"
      ]
    },
    {
      "cell_type": "code",
      "execution_count": 130,
      "id": "H72qxWM0shPR",
      "metadata": {
        "id": "H72qxWM0shPR"
      },
      "outputs": [
        {
          "name": "stderr",
          "output_type": "stream",
          "text": [
            "C:\\Users\\sheme\\AppData\\Local\\Temp\\ipykernel_12988\\2317649464.py:1: UserWarning: pandas only supports SQLAlchemy connectable (engine/connection) or database string URI or sqlite3 DBAPI2 connection. Other DBAPI2 objects are not tested. Please consider using SQLAlchemy.\n",
            "  df = pd.read_sql_query(query_5_6, connection)\n"
          ]
        },
        {
          "data": {
            "text/html": [
              "<div>\n",
              "<style scoped>\n",
              "    .dataframe tbody tr th:only-of-type {\n",
              "        vertical-align: middle;\n",
              "    }\n",
              "\n",
              "    .dataframe tbody tr th {\n",
              "        vertical-align: top;\n",
              "    }\n",
              "\n",
              "    .dataframe thead th {\n",
              "        text-align: right;\n",
              "    }\n",
              "</style>\n",
              "<table border=\"1\" class=\"dataframe\">\n",
              "  <thead>\n",
              "    <tr style=\"text-align: right;\">\n",
              "      <th></th>\n",
              "      <th>count</th>\n",
              "    </tr>\n",
              "  </thead>\n",
              "  <tbody>\n",
              "    <tr>\n",
              "      <th>0</th>\n",
              "      <td>3553</td>\n",
              "    </tr>\n",
              "  </tbody>\n",
              "</table>\n",
              "</div>"
            ],
            "text/plain": [
              "   count\n",
              "0   3553"
            ]
          },
          "metadata": {},
          "output_type": "display_data"
        }
      ],
      "source": [
        "df = pd.read_sql_query(query_5_6, connection)\n",
        "display(df)"
      ]
    },
    {
      "cell_type": "markdown",
      "id": "7b02bb86-0546-40fb-94a4-242f050a5c57",
      "metadata": {
        "id": "7b02bb86-0546-40fb-94a4-242f050a5c57"
      },
      "source": [
        "7. Для компании «Яндекс» выведите список регионов-миллионников, в которых представлены вакансии компании, вместе с количеством вакансий в этих регионах. Также добавьте строку Total с общим количеством вакансий компании. Результат отсортируйте по возрастанию количества.\n",
        "\n",
        "Список городов-милионников надо взять [отсюда](https://ru.wikipedia.org/wiki/%D0%93%D0%BE%D1%80%D0%BE%D0%B4%D0%B0-%D0%BC%D0%B8%D0%BB%D0%BB%D0%B8%D0%BE%D0%BD%D0%B5%D1%80%D1%8B_%D0%A0%D0%BE%D1%81%D1%81%D0%B8%D0%B8). \n",
        "\n",
        "Если возникнут трудности с этим задание посмотрите материалы модуля  PYTHON-17. Как получать данные из веб-источников и API. "
      ]
    },
    {
      "cell_type": "code",
      "execution_count": 131,
      "id": "ZdfrL6gIs1Pn",
      "metadata": {
        "id": "ZdfrL6gIs1Pn"
      },
      "outputs": [
        {
          "name": "stdout",
          "output_type": "stream",
          "text": [
            "['Москва', 'Санкт-Петербург', 'Новосибирск', 'Екатеринбург', 'Казань', 'Нижний Новгород', 'Челябинск', 'Красноярск', 'Самара', 'Уфа', 'Ростов-на-Дону', 'Омск', 'Краснодар', 'Воронеж[a]', 'Пермь', 'Волгоград']\n"
          ]
        }
      ],
      "source": [
        "# получение списка городов-милионников\n",
        "\n",
        "# найти таблицы на странице по ключевому слову\n",
        "url = 'https://ru.wikipedia.org/wiki/%D0%93%D0%BE%D1%80%D0%BE%D0%B4%D0%B0-%D0%BC%D0%B8%D0%BB%D0%BB%D0%B8%D0%BE%D0%BD%D0%B5%D1%80%D1%8B_%D0%A0%D0%BE%D1%81%D1%81%D0%B8%D0%B8' \n",
        "city_tb = pd.read_html(url, match='город')\n",
        "\n",
        "# получить из таблицы список названий городов-миллионников\n",
        "city_ls = list(city_tb[0]['Город']) if len(city_tb)>0 else []\n",
        "print(city_ls)"
      ]
    },
    {
      "cell_type": "code",
      "execution_count": 132,
      "id": "18d1191d",
      "metadata": {},
      "outputs": [
        {
          "name": "stdout",
          "output_type": "stream",
          "text": [
            "['Москва', 'Санкт-Петербург', 'Новосибирск', 'Екатеринбург', 'Казань', 'Нижний Новгород', 'Челябинск', 'Красноярск', 'Самара', 'Уфа', 'Ростов-на-Дону', 'Омск', 'Краснодар', 'Воронеж', 'Пермь', 'Волгоград']\n"
          ]
        }
      ],
      "source": [
        "# убрать лишние символы из названия города\n",
        "city_ls[13]='Воронеж'\n",
        "print(city_ls)"
      ]
    },
    {
      "cell_type": "code",
      "execution_count": 141,
      "id": "5a0e32a4-e68a-4365-8a39-2fe24c542c36",
      "metadata": {
        "id": "5a0e32a4-e68a-4365-8a39-2fe24c542c36"
      },
      "outputs": [],
      "source": [
        "# запрос\n",
        "\n",
        "emp_name='Яндекс'\n",
        "cities = \"'\" + \"', '\".join(city_ls) + \"'\"\n",
        "\n",
        "query_5_7 = f'''\n",
        "WITH mc_vac AS (\n",
        "\tSELECT mc.name, count(vac.id) as cnt \n",
        " \tFROM\n",
        "\t\t(select id, name from public.areas where name in ({cities})\n",
        "\t\t) as mc\n",
        " \tJOIN public.vacancies vac ON vac.area_id=mc.id\n",
        " \tJOIN public.employers emp ON emp.id=vac.employer_id\n",
        " \tWHERE emp.name like '{emp_name}'\n",
        " \tGROUP BY mc.name\n",
        " ) --CTE выполняется единожды\n",
        " SELECT * FROM mc_vac\n",
        " UNION ALL\n",
        " SELECT 'Total', sum(cnt) from mc_vac\n",
        " ORDER BY cnt\n",
        "'''"
      ]
    },
    {
      "cell_type": "code",
      "execution_count": 142,
      "id": "ttPhiO1rsvPq",
      "metadata": {
        "id": "ttPhiO1rsvPq"
      },
      "outputs": [
        {
          "name": "stderr",
          "output_type": "stream",
          "text": [
            "C:\\Users\\sheme\\AppData\\Local\\Temp\\ipykernel_12988\\3129374555.py:1: UserWarning: pandas only supports SQLAlchemy connectable (engine/connection) or database string URI or sqlite3 DBAPI2 connection. Other DBAPI2 objects are not tested. Please consider using SQLAlchemy.\n",
            "  df = pd.read_sql_query(query_5_7, connection)\n"
          ]
        },
        {
          "data": {
            "text/html": [
              "<div>\n",
              "<style scoped>\n",
              "    .dataframe tbody tr th:only-of-type {\n",
              "        vertical-align: middle;\n",
              "    }\n",
              "\n",
              "    .dataframe tbody tr th {\n",
              "        vertical-align: top;\n",
              "    }\n",
              "\n",
              "    .dataframe thead th {\n",
              "        text-align: right;\n",
              "    }\n",
              "</style>\n",
              "<table border=\"1\" class=\"dataframe\">\n",
              "  <thead>\n",
              "    <tr style=\"text-align: right;\">\n",
              "      <th></th>\n",
              "      <th>name</th>\n",
              "      <th>cnt</th>\n",
              "    </tr>\n",
              "  </thead>\n",
              "  <tbody>\n",
              "    <tr>\n",
              "      <th>0</th>\n",
              "      <td>Омск</td>\n",
              "      <td>21.0</td>\n",
              "    </tr>\n",
              "    <tr>\n",
              "      <th>1</th>\n",
              "      <td>Челябинск</td>\n",
              "      <td>22.0</td>\n",
              "    </tr>\n",
              "    <tr>\n",
              "      <th>2</th>\n",
              "      <td>Красноярск</td>\n",
              "      <td>23.0</td>\n",
              "    </tr>\n",
              "    <tr>\n",
              "      <th>3</th>\n",
              "      <td>Волгоград</td>\n",
              "      <td>24.0</td>\n",
              "    </tr>\n",
              "    <tr>\n",
              "      <th>4</th>\n",
              "      <td>Пермь</td>\n",
              "      <td>25.0</td>\n",
              "    </tr>\n",
              "    <tr>\n",
              "      <th>5</th>\n",
              "      <td>Казань</td>\n",
              "      <td>25.0</td>\n",
              "    </tr>\n",
              "    <tr>\n",
              "      <th>6</th>\n",
              "      <td>Ростов-на-Дону</td>\n",
              "      <td>25.0</td>\n",
              "    </tr>\n",
              "    <tr>\n",
              "      <th>7</th>\n",
              "      <td>Самара</td>\n",
              "      <td>26.0</td>\n",
              "    </tr>\n",
              "    <tr>\n",
              "      <th>8</th>\n",
              "      <td>Уфа</td>\n",
              "      <td>26.0</td>\n",
              "    </tr>\n",
              "    <tr>\n",
              "      <th>9</th>\n",
              "      <td>Краснодар</td>\n",
              "      <td>30.0</td>\n",
              "    </tr>\n",
              "    <tr>\n",
              "      <th>10</th>\n",
              "      <td>Воронеж</td>\n",
              "      <td>32.0</td>\n",
              "    </tr>\n",
              "    <tr>\n",
              "      <th>11</th>\n",
              "      <td>Новосибирск</td>\n",
              "      <td>35.0</td>\n",
              "    </tr>\n",
              "    <tr>\n",
              "      <th>12</th>\n",
              "      <td>Нижний Новгород</td>\n",
              "      <td>36.0</td>\n",
              "    </tr>\n",
              "    <tr>\n",
              "      <th>13</th>\n",
              "      <td>Екатеринбург</td>\n",
              "      <td>39.0</td>\n",
              "    </tr>\n",
              "    <tr>\n",
              "      <th>14</th>\n",
              "      <td>Санкт-Петербург</td>\n",
              "      <td>42.0</td>\n",
              "    </tr>\n",
              "    <tr>\n",
              "      <th>15</th>\n",
              "      <td>Москва</td>\n",
              "      <td>54.0</td>\n",
              "    </tr>\n",
              "    <tr>\n",
              "      <th>16</th>\n",
              "      <td>Total</td>\n",
              "      <td>485.0</td>\n",
              "    </tr>\n",
              "  </tbody>\n",
              "</table>\n",
              "</div>"
            ],
            "text/plain": [
              "               name    cnt\n",
              "0              Омск   21.0\n",
              "1         Челябинск   22.0\n",
              "2        Красноярск   23.0\n",
              "3         Волгоград   24.0\n",
              "4             Пермь   25.0\n",
              "5            Казань   25.0\n",
              "6    Ростов-на-Дону   25.0\n",
              "7            Самара   26.0\n",
              "8               Уфа   26.0\n",
              "9         Краснодар   30.0\n",
              "10          Воронеж   32.0\n",
              "11      Новосибирск   35.0\n",
              "12  Нижний Новгород   36.0\n",
              "13     Екатеринбург   39.0\n",
              "14  Санкт-Петербург   42.0\n",
              "15           Москва   54.0\n",
              "16            Total  485.0"
            ]
          },
          "execution_count": 142,
          "metadata": {},
          "output_type": "execute_result"
        }
      ],
      "source": [
        "df = pd.read_sql_query(query_5_7, connection)\n",
        "df"
      ]
    },
    {
      "cell_type": "markdown",
      "id": "04966e40-3bc3-4dc8-9ba2-e80580ce3abc",
      "metadata": {
        "id": "04966e40-3bc3-4dc8-9ba2-e80580ce3abc"
      },
      "source": [
        "***"
      ]
    },
    {
      "cell_type": "markdown",
      "id": "d8d7ff88",
      "metadata": {},
      "source": [
        "**Выводы по анализу работодателей**\n",
        "\n",
        "* Всего в БД хранятся данные о 23501 работодателе.\n",
        "\n",
        "* Наибольшее количество вакансий ожидаемо зарегистрированы от имени крупных компаний таких как: Яндекс, Ростелеком, Тинькофф, Сбер и т.д. Но абсолютным лидером является Яндекс, они предлагают в 4 раза больше вакансий, чем другие крупные компании.\n",
        "\n",
        "* Наибольшее количество работодателей и вакансий размещены в крупных городах. Например в Москве находятся почти 25% из всех работодалей, сохраненных в БД, в Санкт-Петербурге 9% и далее этот процент уменьшается для остальных регионов.\n",
        "\n",
        "* Среди регионов с доступными вакансиями прослеживается линейная зависимость кол-ва работодателей и числа предложений. Среди регионов, в которых нет вакансий, по количеству работодателей лидируют \"Россия\", \"Казахстан\".\n",
        "\n",
        "* Лидерами по количеству регионов, в которых компания разместила вакансии, являются Яндекс и Ростелеком.\n",
        "\n",
        "* У трети работодателей указано более 1 сферы деятельности.\n",
        "\n",
        "* Около 15% работодателей ищут соискателей в области разработки ПО."
      ]
    },
    {
      "cell_type": "markdown",
      "id": "b1ef156a-efcb-49ce-bb23-90763e7f35b2",
      "metadata": {
        "id": "b1ef156a-efcb-49ce-bb23-90763e7f35b2",
        "tags": []
      },
      "source": [
        "# Юнит 6. Предметный анализ"
      ]
    },
    {
      "cell_type": "markdown",
      "id": "b9cd50a0-992d-4988-8463-2b2b1c4629b4",
      "metadata": {
        "id": "b9cd50a0-992d-4988-8463-2b2b1c4629b4"
      },
      "source": [
        "1. Сколько вакансий имеет отношение к данным?\n",
        "\n",
        "Считаем, что вакансия имеет отношение к данным, если в её названии содержатся слова 'data' или 'данн'.\n",
        "\n",
        "*Подсказка: Обратите внимание, что названия вакансий могут быть написаны в любом регистре.* \n"
      ]
    },
    {
      "cell_type": "code",
      "execution_count": null,
      "id": "54ab0e50-c0f1-47cc-a54b-bc5c8bc363f9",
      "metadata": {
        "id": "54ab0e50-c0f1-47cc-a54b-bc5c8bc363f9"
      },
      "outputs": [],
      "source": [
        "# текст запроса"
      ]
    },
    {
      "cell_type": "code",
      "execution_count": null,
      "id": "9F1meAqsuUjd",
      "metadata": {
        "id": "9F1meAqsuUjd"
      },
      "outputs": [],
      "source": [
        "# результат запроса"
      ]
    },
    {
      "cell_type": "markdown",
      "id": "4dea20cb-a36b-474a-a0b9-e08e8e3857a5",
      "metadata": {
        "id": "4dea20cb-a36b-474a-a0b9-e08e8e3857a5"
      },
      "source": [
        "2. Сколько есть подходящих вакансий для начинающего дата-сайентиста? \n",
        "Будем считать вакансиями для дата-сайентистов такие, в названии которых есть хотя бы одно из следующих сочетаний:\n",
        "* 'data scientist'\n",
        "* 'data science'\n",
        "* 'исследователь данных'\n",
        "* 'ML' (здесь не нужно брать вакансии по HTML)\n",
        "* 'machine learning'\n",
        "* 'машинн%обучен%'\n",
        "\n",
        "** В следующих заданиях мы продолжим работать с вакансиями по этому условию.*\n",
        "\n",
        "Считаем вакансиями для специалистов уровня Junior следующие:\n",
        "* в названии есть слово 'junior' *или*\n",
        "* требуемый опыт — Нет опыта *или*\n",
        "* тип трудоустройства — Стажировка.\n",
        " "
      ]
    },
    {
      "cell_type": "code",
      "execution_count": null,
      "id": "9c61b3c0-bb66-46c9-ae1e-81d3f5752b4a",
      "metadata": {
        "id": "9c61b3c0-bb66-46c9-ae1e-81d3f5752b4a"
      },
      "outputs": [],
      "source": [
        "# текст запроса"
      ]
    },
    {
      "cell_type": "code",
      "execution_count": null,
      "id": "ZNM-LLYuu1dj",
      "metadata": {
        "id": "ZNM-LLYuu1dj"
      },
      "outputs": [],
      "source": [
        "# результат запроса"
      ]
    },
    {
      "cell_type": "markdown",
      "id": "eedceb80-c5ca-480e-b27a-278dfb8b4438",
      "metadata": {
        "id": "eedceb80-c5ca-480e-b27a-278dfb8b4438"
      },
      "source": [
        "3. Сколько есть вакансий для DS, в которых в качестве ключевого навыка указан SQL или postgres?\n",
        "\n",
        "** Критерии для отнесения вакансии к DS указаны в предыдущем задании.*"
      ]
    },
    {
      "cell_type": "code",
      "execution_count": null,
      "id": "69621713-0cc5-4f1b-a1d7-bb144fa6148c",
      "metadata": {
        "id": "69621713-0cc5-4f1b-a1d7-bb144fa6148c"
      },
      "outputs": [],
      "source": [
        "# текст запроса"
      ]
    },
    {
      "cell_type": "code",
      "execution_count": null,
      "id": "alA8WEAAvGdf",
      "metadata": {
        "id": "alA8WEAAvGdf"
      },
      "outputs": [],
      "source": [
        "# результат запроса"
      ]
    },
    {
      "cell_type": "markdown",
      "id": "1be1e9c6-37cf-4a5f-bfeb-04cab799dc80",
      "metadata": {
        "id": "1be1e9c6-37cf-4a5f-bfeb-04cab799dc80"
      },
      "source": [
        "4. Проверьте, насколько популярен Python в требованиях работодателей к DS.Для этого вычислите количество вакансий, в которых в качестве ключевого навыка указан Python.\n",
        "\n",
        "** Это можно сделать помощью запроса, аналогичного предыдущему.*"
      ]
    },
    {
      "cell_type": "code",
      "execution_count": null,
      "id": "0036a355-9ccf-4564-8b01-73d8194297e7",
      "metadata": {
        "id": "0036a355-9ccf-4564-8b01-73d8194297e7"
      },
      "outputs": [],
      "source": [
        "# текст запроса"
      ]
    },
    {
      "cell_type": "code",
      "execution_count": null,
      "id": "1i-5WyucvQ6v",
      "metadata": {
        "id": "1i-5WyucvQ6v"
      },
      "outputs": [],
      "source": [
        "# результат запроса"
      ]
    },
    {
      "cell_type": "markdown",
      "id": "ec3c8db7-fa21-4a41-a994-1af63742a642",
      "metadata": {
        "id": "ec3c8db7-fa21-4a41-a994-1af63742a642"
      },
      "source": [
        "5. Сколько ключевых навыков в среднем указывают в вакансиях для DS?\n",
        "Ответ округлите до двух знаков после точки-разделителя."
      ]
    },
    {
      "cell_type": "code",
      "execution_count": null,
      "id": "949132bc-d5b6-4611-8218-0b9a504d74f4",
      "metadata": {
        "id": "949132bc-d5b6-4611-8218-0b9a504d74f4"
      },
      "outputs": [],
      "source": [
        "# текст запроса"
      ]
    },
    {
      "cell_type": "code",
      "execution_count": null,
      "id": "a3V24Tvmviqk",
      "metadata": {
        "id": "a3V24Tvmviqk"
      },
      "outputs": [],
      "source": [
        "# результат запроса"
      ]
    },
    {
      "cell_type": "markdown",
      "id": "1041c17a-ca8f-4543-a0ca-32778914fb00",
      "metadata": {
        "id": "1041c17a-ca8f-4543-a0ca-32778914fb00"
      },
      "source": [
        "6. Напишите запрос, позволяющий вычислить, какую зарплату для DS в **среднем** указывают для каждого типа требуемого опыта (уникальное значение из поля *experience*). \n",
        "\n",
        "При решении задачи примите во внимание следующее:\n",
        "1. Рассматриваем только вакансии, у которых заполнено хотя бы одно из двух полей с зарплатой.\n",
        "2. Если заполнены оба поля с зарплатой, то считаем зарплату по каждой вакансии как сумму двух полей, делённую на 2. Если заполнено только одно из полей, то его и считаем зарплатой по вакансии.\n",
        "3. Если в расчётах участвует null, в результате он тоже даст null (посмотрите, что возвращает запрос select 1 + null). Чтобы избежать этой ситуацию, мы воспользуемся функцией [coalesce](https://postgrespro.ru/docs/postgresql/9.5/functions-conditional#functions-coalesce-nvl-ifnull), которая заменит null на значение, которое мы передадим. Например, посмотрите, что возвращает запрос `select 1 + coalesce(null, 0)`\n",
        "\n",
        "Выясните, на какую зарплату в среднем может рассчитывать дата-сайентист с опытом работы от 3 до 6 лет. Результат округлите до целого числа. "
      ]
    },
    {
      "cell_type": "code",
      "execution_count": null,
      "id": "6a743d39-5204-48d3-8271-b9f88e68d40e",
      "metadata": {
        "id": "6a743d39-5204-48d3-8271-b9f88e68d40e"
      },
      "outputs": [],
      "source": [
        "# текст запроса"
      ]
    },
    {
      "cell_type": "code",
      "execution_count": null,
      "id": "aRIJ0mZEwU1_",
      "metadata": {
        "id": "aRIJ0mZEwU1_"
      },
      "outputs": [],
      "source": [
        "# результат запроса"
      ]
    },
    {
      "cell_type": "markdown",
      "id": "6a7892b4-4113-4746-adce-18aa2844f18e",
      "metadata": {
        "id": "6a7892b4-4113-4746-adce-18aa2844f18e"
      },
      "source": [
        "***"
      ]
    },
    {
      "cell_type": "code",
      "execution_count": null,
      "id": "UjLWUptVwY1o",
      "metadata": {
        "id": "UjLWUptVwY1o"
      },
      "outputs": [],
      "source": [
        "# выводы по предметному анализу"
      ]
    },
    {
      "cell_type": "markdown",
      "id": "c0ED6fh7wiBT",
      "metadata": {
        "id": "c0ED6fh7wiBT"
      },
      "source": [
        "# Общий вывод по проекту"
      ]
    },
    {
      "cell_type": "code",
      "execution_count": null,
      "id": "h9B3BL-wwj18",
      "metadata": {
        "id": "h9B3BL-wwj18"
      },
      "outputs": [],
      "source": [
        "# подведем итог исследования, обобщите выводы\n",
        "# здесь можно (это будет плюсом) провести дополнительные исследования данных, сделать прогнозы, продумать варианты продолжения исследования"
      ]
    }
  ],
  "metadata": {
    "colab": {
      "collapsed_sections": [
        "8d62a9f3-f64e-4fe7-bdac-c4dffa16155e"
      ],
      "provenance": []
    },
    "kernelspec": {
      "display_name": "Python 3.9.10 64-bit",
      "language": "python",
      "name": "python3"
    },
    "language_info": {
      "codemirror_mode": {
        "name": "ipython",
        "version": 3
      },
      "file_extension": ".py",
      "mimetype": "text/x-python",
      "name": "python",
      "nbconvert_exporter": "python",
      "pygments_lexer": "ipython3",
      "version": "3.9.10"
    },
    "vscode": {
      "interpreter": {
        "hash": "43af4c9d837a1581c77d6d49013dbaf10b5a877907d81bcf2ca852ce9b327d2d"
      }
    }
  },
  "nbformat": 4,
  "nbformat_minor": 5
}
